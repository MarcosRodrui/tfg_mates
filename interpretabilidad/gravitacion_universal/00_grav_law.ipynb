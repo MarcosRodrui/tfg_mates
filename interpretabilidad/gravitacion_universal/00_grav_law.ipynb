{
 "cells": [
  {
   "attachments": {},
   "cell_type": "markdown",
   "metadata": {},
   "source": [
    "# 0. Ley de gravitación universal"
   ]
  },
  {
   "attachments": {},
   "cell_type": "markdown",
   "metadata": {},
   "source": [
    "Este experimento tiene como objetivo redescrubrir la ley de gravitación universal utilizando una KAN. Esta ley nos da una fórmula para calcular la fuerza ejercida entre dos cuerpos de masas $m_1$ y $m_2$ separados por una distancia $d$. La fórmula es la siguiente\n",
    "$$\n",
    "F = G \\frac{m_1 m_2}{d^2}, \\quad G=6.6743 \\cdot 10^{-11} \\frac{\\text{Nm}^2}{\\text{kg}^2}.\n",
    "$$\n",
    "\n",
    "Para entrenar el modelo vamos a utilizar datos sintéticos, es decir, no vamos a utilizar mediciones reales, sino que simularemos los datos. Los datos simulados representan estrellas cercanas al Sol, concretamente aquellas que se encuentran a $5$ parsecs del Sol. Además, hemos fijado algunas restricciones: consideramos solo estrellas de $0.5$ a $5$ masas solares, comparamos estrellas que estén a más de $1$ parsec de distancia y descartamos aquellas interacciones entre dos estrellas que tienen una fuerza menor que $10^{16}$ N.\n",
    "\n",
    "Una masa solar ($M_\\odot$) es una unidad de masa que equivale a la masa del Sol ($1.989 \\cdot 10^{30} \\text{ kg}$). Por su parte, el parsec es una unidad de distancia que equivale a $3.086 \\cdot 10^{16} \\text{ m}$. Dado que vamos a trabajar con parsecs y masas solares, expresaremos la constante $G$ también en estas unidades\n",
    "$$\n",
    "G' = 6.6743 \\cdot 10^{-11} \\frac{\\text{Nm}^2}{\\text{kg}^2} \\cdot \\frac{(1.989 \\cdot 10^{30})^2 \\text{ kg}^2}{1 \\text{ M}^2_\\odot} \\cdot \\frac{1 \\text{ parsec}^2}{(3.086 \\cdot 10^{16})^2 \\text{ m}^2} = 2.773 \\cdot 10^{17} \\frac{\\text{N} \\text{ parsec}^2}{\\text{M}_\\odot^2}.\n",
    "$$\n",
    "\n",
    "Dado que no sabemos qué arquitectura de KAN utilizar, comenzamos con una (3,5,1)."
   ]
  },
  {
   "cell_type": "code",
   "execution_count": 120,
   "metadata": {},
   "outputs": [
    {
     "name": "stdout",
     "output_type": "stream",
     "text": [
      "checkpoint directory created: ./model\n",
      "saving model version 0.0\n"
     ]
    }
   ],
   "source": [
    "# Iniciamos la KAN\n",
    "from kan import *\n",
    "import scipy.constants as const\n",
    "\n",
    "device = torch.device('cuda' if torch.cuda.is_available() else 'cpu')\n",
    "\n",
    "model = KAN(width=[3,5,1], grid=3, k=3, seed=2025, device=device);"
   ]
  },
  {
   "attachments": {},
   "cell_type": "markdown",
   "metadata": {},
   "source": [
    "A continuación, tenemos el código que genera los datos asociados a las variables $m_1$, $m_2$ y $d$ de la fórmula de la gravitación universal. Recordemos que queremos simular las estrellas a menos de $5$ parsecs de distancia del Sol con masas entre $0.5$ y $5 \\ M_\\odot$. Podríamos generar estos datos utilizando una distribución uniforme, sin embargo, no sería demasiado realista.\n",
    "\n",
    "Llamemos $R$ a la variable aleatoria que describe la distancia entre el Sol y una estrella aleatoria con radio interior $r_{min}=1.295$ y radio exterior $r_{max}=5$. El radio interior viene dado por la distancia a la estrella más cercana al Sol (Próxima Centauri) y el radio exterior por la restricción que hemos fijado. Llamaremos $\\mathcal{C}$ a la corona esférica que representa ese espacio (corona esférica con radio interior $r_{min}$ y radio exterior $r_{max}$). Para poder determinar cómo se distribuye $R$ es razonable asumir que en un entorno local como en el que estamos trabajando las estrellas se distribuyen con densidad constante. Por lo tanto, las estrellas se distribuyen de manera constante en volumen y la probabilidad de que una estrella se encuentre a una cierta distancia $r$ no es uniforme en $r$, sino que es proporcional a $r^2$ (el área de una esfera de radio $r$ es $4\\pi r^2$). Entonces, la función de densidad de $R$ es\n",
    "$$\n",
    "f_R(r) = \\frac{3r^2}{r_{max}^3 - r_{min}^3}, \\quad r \\in [r_{min}, r_{max}],\n",
    "$$\n",
    "donde $\\frac{3}{r_{max}^3 - r_{min}^3}$ es la constante que hay que aplicar para que $f_R$ integre $1$. Para obtener un método que nos permita obtener muestras de $R$ necesitamos calcular la función de distribución acumulada\n",
    "$$\n",
    "F_R(r) = \\int_{r_{min}}^r f_R(t) dt = \\frac{r^3 - r_{min}^3}{r_{max}^3 - r_{min}^3}, \\quad r \\in [r_{min}, r_{max}].\n",
    "$$\n",
    "\n",
    "Entonces, sea $U \\sim \\text{Unif}(0,1)$ y escribimos $R$ como\n",
    "$$\n",
    "R = F_R^{-1}(U) = (U(r_{max}^3 - r_{min}^3) + r_{min}^3)^{1/3},\n",
    "$$\n",
    "utilizando el método de la transformada inversa. Esto nos da un procedimiento para obtener muestras de $R$, sin embargo, no estamos interesados directamente en la distancia que hay de las estrellas al Sol, sino en la distancia que hay entre dos de estrellas situadas en la corona esférica $\\mathcal{C}$. Veamos cómo generar muestras de esta distribución.\n",
    "\n",
    "Comenzamos generando una muestra de $n$ observaciones de la variable aleatoria $R$. A continuación, generamos $n$ observaciones de las variables aleatorias independientes $\\Theta$ y $\\Phi$, que describen ángulos en coordenadas esféricas. La generación de estas observaciones viene dada por\n",
    "$$\n",
    "\\Theta = \\arccos(1-2U_\\Theta), \\quad \\Phi = 2\\pi U_\\Phi, \\quad U_\\Theta, U_\\Phi \\sim \\text{Unif}(0,1),\n",
    "$$\n",
    "ya que hemos asumido densidad constante (con un mismo radio la probabilidad de encontrar una estrella es uniforme). Definimos el vector aleatorio $X$ como $X =(X_1, X_2, X_3)$ con\n",
    "\\begin{align*}\n",
    "X_1 &= R \\sin \\Theta \\cos \\Phi, \\\\\n",
    "X_2 &= R \\sin \\Theta \\sin \\Phi, \\\\\n",
    "X_3 &= R \\cos \\Theta.\n",
    "\\end{align*}\n",
    "Este vector aleatorio $X$ representa una posición aleatoria de una estrella en coordenadas cartesianas en la corona esférica $\\mathcal{C}$. Entonces, para generar una muestra de $n$ observaciones de $X$ basta con utilizar las muestras de $n$ observaciones de las variables aleatorias $R$, $\\Theta$ y $\\Phi$. Llamamos $Y_1, Y_2 \\sim X$ a dos vectores aleatorios independientes e idénticamente distribuidos. Finalmente, definimos la variable aleatoria $D$ que representa la distancia entre dos estrellas elegidas aleatoriamente en la corona esférica $\\mathcal{C}$ como\n",
    "$$\n",
    "D = \\|Y_1 - Y_2 \\|,\n",
    "$$\n",
    "donde $\\|.\\|$ denota la norma euclídea en $\\mathbb{R}^3$. Entonces para generar una muestra de $n$ observacioes de $D$, basta con utilizar muestras de $n$ observaciones de los vectores aleatorios $Y_1, Y_2$.\n",
    "\n",
    "Veamos ahora cómo generar las masas de las estrellas en el experimento. Sea $M$ la variable aleatoria que describe la masa de una estrella seleccionada al azar. Estamos interesados solo en aquellas estrellas que tienen una masa entre $m_{min}=0.5$ y $m_{max}=5$ $\\text{M}_\\odot$. La forma en la que se distribuyen las masas estelares no es uniforme. Para describir la distribución de las masas de las estrellas seguiremos la función de masa inicial, en concreto la formulación de \\citet{kroupa2001variation}. De esta manera, para masas mayores que $0.5 M_\\odot$ tenemos que la función de densidad de $M$ cumple que\n",
    "$$\n",
    "f_M(m) \\propto m^{-\\alpha} \\text{ con } \\alpha = 2.3,\n",
    "$$\n",
    "es decir, estrellas con una menor masa son más frecuentes que las que tienen una mayor masa. Ajustando la función $f_M$ para que su integral sea $1$ en el intervalo que hemos considerado, tenemos que\n",
    "$$\n",
    "f_M(m) = \\frac{(1-\\alpha)m^{-\\alpha}}{m_{max}^{1-\\alpha}-m_{min}^{1-\\alpha}}, \\quad m \\in [m_{min}, m_{max}].\n",
    "$$\n",
    "\n",
    "Aplicamos nuevamente el método de la transformada inversa. Para ello, calculamos la función de distribución acumulada $F_M$\n",
    "$$\n",
    "F_M(m) = \\int_{m_{min}}^m f_M(t) dt = \\frac{m^{1-\\alpha} - m_{min}^{1-\\alpha}}{m_{max}^{1-\\alpha}- m_{min}^{1-\\alpha}}\n",
    "$$\n",
    "y utilizando una uniforme $U \\sim \\text{Unif}(0,1)$ tenemos que \n",
    "$$\n",
    "M = F_M^{-1}(U) = \\left(U (m_{max}^{1-\\alpha} - m_{min}^{1-\\alpha}) + m_{min}^{1-\\alpha} \\right)^{1/(1-\\alpha)}\n",
    "$$Llamemos $R$ a la variable aleatoria que describe la distancia entre el Sol y una estrella aleatoria con radio interior $r_{min}=1.295$ y radio exterior $r_{max}=5$. El radio interior viene dado por la distancia a la estrella más cercana al Sol (Próxima Centauri) y el radio exterior por la restricción que hemos fijado. Llamaremos $\\mathcal{C}$ a la corona esférica que representa ese espacio (corona esférica con radio interior $r_{min}$ y radio exterior $r_{max}$). Para poder determinar cómo se distribuye $R$ es razonable asumir que en un entorno local como en el que estamos trabajando las estrellas se distribuyen con densidad constante. Por lo tanto, las estrellas se distribuyen de manera constante en volumen y la probabilidad de que una estrella se encuentre a una cierta distancia $r$ no es uniforme en $r$, sino que es proporcional a $r^2$ (el área de una esfera de radio $r$ es $4\\pi r^2$). Entonces, la función de densidad de $R$ es\n",
    "$$\n",
    "f_R(r) = \\frac{3r^2}{r_{max}^3 - r_{min}^3}, \\quad r \\in [r_{min}, r_{max}],\n",
    "$$\n",
    "donde $\\frac{3}{r_{max}^3 - r_{min}^3}$ es la constante que hay que aplicar para que $f_R$ integre $1$. Para obtener un método que nos permita obtener muestras de $R$ necesitamos calcular la función de distribución acumulada\n",
    "$$\n",
    "F_R(r) = \\int_{r_{min}}^r f_R(t) dt = \\frac{r^3 - r_{min}^3}{r_{max}^3 - r_{min}^3}, \\quad r \\in [r_{min}, r_{max}].\n",
    "$$\n",
    "\n",
    "Entonces, sea $U \\sim \\text{Unif}(0,1)$ y escribimos $R$ como\n",
    "$$\n",
    "R = F_R^{-1}(U) = (U(r_{max}^3 - r_{min}^3) + r_{min}^3)^{1/3},\n",
    "$$\n",
    "utilizando el método de la transformada inversa. Esto nos da un procedimiento para obtener muestras de $R$, sin embargo, no estamos interesados directamente en la distancia que hay de las estrellas al Sol, sino en la distancia que hay entre dos de estrellas situadas en la corona esférica $\\mathcal{C}$. Veamos cómo generar muestras de esta distribución.\n",
    "\n",
    "Comenzamos generando una muestra de $n$ observaciones de la variable aleatoria $R$. A continuación, generamos $n$ observaciones de las variables aleatorias independientes $\\Theta$ y $\\Phi$, que describen ángulos en coordenadas esféricas. La generación de estas observaciones viene dada por\n",
    "$$\n",
    "\\Theta = \\arccos(1-2U_\\Theta), \\quad \\Phi = 2\\pi U_\\Phi, \\quad U_\\Theta, U_\\Phi \\sim \\text{Unif}(0,1),\n",
    "$$\n",
    "ya que hemos asumido densidad constante (con un mismo radio la probabilidad de encontrar una estrella es uniforme). Definimos el vector aleatorio $X$ como $X =(X_1, X_2, X_3)$ con\n",
    "\\begin{align*}\n",
    "X_1 &= R \\sin \\Theta \\cos \\Phi, \\\\\n",
    "X_2 &= R \\sin \\Theta \\sin \\Phi, \\\\\n",
    "X_3 &= R \\cos \\Theta.\n",
    "\\end{align*}\n",
    "Este vector aleatorio $X$ representa una posición aleatoria de una estrella en coordenadas cartesianas en la corona esférica $\\mathcal{C}$. Entonces, para generar una muestra de $n$ observaciones de $X$ basta con utilizar las muestras de $n$ observaciones de las variables aleatorias $R$, $\\Theta$ y $\\Phi$. Llamamos $Y_1, Y_2 \\sim X$ a dos vectores aleatorios independientes e idénticamente distribuidos. Finalmente, definimos la variable aleatoria $D$ que representa la distancia entre dos estrellas elegidas aleatoriamente en la corona esférica $\\mathcal{C}$ como\n",
    "$$\n",
    "D = \\|Y_1 - Y_2 \\|,\n",
    "$$\n",
    "donde $\\|.\\|$ denota la norma euclídea en $\\mathbb{R}^3$. Entonces para generar una muestra de $n$ observacioes de $D$, basta con utilizar muestras de $n$ observaciones de los vectores aleatorios $Y_1, Y_2$.\n",
    "\n",
    "Veamos ahora cómo generar las masas de las estrellas en el experimento. Sea $M$ la variable aleatoria que describe la masa de una estrella seleccionada al azar. Estamos interesados solo en aquellas estrellas que tienen una masa entre $m_{min}=0.5$ y $m_{max}=5$ $\\text{M}_\\odot$. La forma en la que se distribuyen las masas estelares no es uniforme. Para describir la distribución de las masas de las estrellas seguiremos la función de masa inicial, en concreto la formulación de \\citet{kroupa2001variation}. De esta manera, para masas mayores que $0.5 M_\\odot$ tenemos que la función de densidad de $M$ cumple que\n",
    "$$\n",
    "f_M(m) \\propto m^{-\\alpha} \\text{ con } \\alpha = 2.3,\n",
    "$$\n",
    "es decir, estrellas con una menor masa son más frecuentes que las que tienen una mayor masa. Ajustando la función $f_M$ para que su integral sea $1$ en el intervalo que hemos considerado, tenemos que\n",
    "$$\n",
    "f_M(m) = \\frac{(1-\\alpha)m^{-\\alpha}}{m_{max}^{1-\\alpha}-m_{min}^{1-\\alpha}}, \\quad m \\in [m_{min}, m_{max}].\n",
    "$$\n",
    "\n",
    "Aplicamos nuevamente el método de la transformada inversa. Para ello, calculamos la función de distribución acumulada $F_M$\n",
    "$$\n",
    "F_M(m) = \\int_{m_{min}}^m f_M(t) dt = \\frac{m^{1-\\alpha} - m_{min}^{1-\\alpha}}{m_{max}^{1-\\alpha}- m_{min}^{1-\\alpha}}\n",
    "$$\n",
    "y utilizando una uniforme $U \\sim \\text{Unif}(0,1)$ tenemos que \n",
    "$$\n",
    "M = F_M^{-1}(U) = \\left(U (m_{max}^{1-\\alpha} - m_{min}^{1-\\alpha}) + m_{min}^{1-\\alpha} \\right)^{1/(1-\\alpha)}\n",
    "$$Llamemos $R$ a la variable aleatoria que describe la distancia entre el Sol y una estrella aleatoria con radio interior $r_{min}=1.295$ y radio exterior $r_{max}=5$. El radio interior viene dado por la distancia a la estrella más cercana al Sol (Próxima Centauri) y el radio exterior por la restricción que hemos fijado. Llamaremos $\\mathcal{C}$ a la corona esférica que representa ese espacio (corona esférica con radio interior $r_{min}$ y radio exterior $r_{max}$). Para poder determinar cómo se distribuye $R$ es razonable asumir que en un entorno local como en el que estamos trabajando las estrellas se distribuyen con densidad constante. Por lo tanto, las estrellas se distribuyen de manera constante en volumen y la probabilidad de que una estrella se encuentre a una cierta distancia $r$ no es uniforme en $r$, sino que es proporcional a $r^2$ (el área de una esfera de radio $r$ es $4\\pi r^2$). Entonces, la función de densidad de $R$ es\n",
    "$$\n",
    "f_R(r) = \\frac{3r^2}{r_{max}^3 - r_{min}^3}, \\quad r \\in [r_{min}, r_{max}],\n",
    "$$\n",
    "donde $\\frac{3}{r_{max}^3 - r_{min}^3}$ es la constante que hay que aplicar para que $f_R$ integre $1$. Para obtener un método que nos permita obtener muestras de $R$ necesitamos calcular la función de distribución acumulada\n",
    "$$\n",
    "F_R(r) = \\int_{r_{min}}^r f_R(t) dt = \\frac{r^3 - r_{min}^3}{r_{max}^3 - r_{min}^3}, \\quad r \\in [r_{min}, r_{max}].\n",
    "$$\n",
    "\n",
    "Entonces, sea $U \\sim \\text{Unif}(0,1)$ y escribimos $R$ como\n",
    "$$\n",
    "R = F_R^{-1}(U) = (U(r_{max}^3 - r_{min}^3) + r_{min}^3)^{1/3},\n",
    "$$\n",
    "utilizando el método de la transformada inversa. Esto nos da un procedimiento para obtener muestras de $R$, sin embargo, no estamos interesados directamente en la distancia que hay de las estrellas al Sol, sino en la distancia que hay entre dos de estrellas situadas en la corona esférica $\\mathcal{C}$. Veamos cómo generar muestras de esta distribución.\n",
    "\n",
    "Comenzamos generando una muestra de $n$ observaciones de la variable aleatoria $R$. A continuación, generamos $n$ observaciones de las variables aleatorias independientes $\\Theta$ y $\\Phi$, que describen ángulos en coordenadas esféricas. La generación de estas observaciones viene dada por\n",
    "$$\n",
    "\\Theta = \\arccos(1-2U_\\Theta), \\quad \\Phi = 2\\pi U_\\Phi, \\quad U_\\Theta, U_\\Phi \\sim \\text{Unif}(0,1),\n",
    "$$\n",
    "ya que hemos asumido densidad constante (con un mismo radio la probabilidad de encontrar una estrella es uniforme). Definimos el vector aleatorio $X$ como $X =(X_1, X_2, X_3)$ con\n",
    "\\begin{align*}\n",
    "X_1 &= R \\sin \\Theta \\cos \\Phi, \\\\\n",
    "X_2 &= R \\sin \\Theta \\sin \\Phi, \\\\\n",
    "X_3 &= R \\cos \\Theta.\n",
    "\\end{align*}\n",
    "Este vector aleatorio $X$ representa una posición aleatoria de una estrella en coordenadas cartesianas en la corona esférica $\\mathcal{C}$. Entonces, para generar una muestra de $n$ observaciones de $X$ basta con utilizar las muestras de $n$ observaciones de las variables aleatorias $R$, $\\Theta$ y $\\Phi$. Llamamos $Y_1, Y_2 \\sim X$ a dos vectores aleatorios independientes e idénticamente distribuidos. Finalmente, definimos la variable aleatoria $D$ que representa la distancia entre dos estrellas elegidas aleatoriamente en la corona esférica $\\mathcal{C}$ como\n",
    "$$\n",
    "D = \\|Y_1 - Y_2 \\|,\n",
    "$$\n",
    "donde $\\|.\\|$ denota la norma euclídea en $\\mathbb{R}^3$. Entonces para generar una muestra de $n$ observacioes de $D$, basta con utilizar muestras de $n$ observaciones de los vectores aleatorios $Y_1, Y_2$.\n",
    "\n",
    "Veamos ahora cómo generar las masas de las estrellas en el experimento. Sea $M$ la variable aleatoria que describe la masa de una estrella seleccionada al azar. Estamos interesados solo en aquellas estrellas que tienen una masa entre $m_{min}=0.5$ y $m_{max}=5$ $\\text{M}_\\odot$. La forma en la que se distribuyen las masas estelares no es uniforme. Para describir la distribución de las masas de las estrellas seguiremos la función de masa inicial, en concreto la formulación de Kroup (2001). De esta manera, para masas mayores que $0.5 M_\\odot$ tenemos que la función de densidad de $M$ cumple que\n",
    "$$\n",
    "f_M(m) \\propto m^{-\\alpha} \\text{ con } \\alpha = 2.3,\n",
    "$$\n",
    "es decir, estrellas con una menor masa son más frecuentes que las que tienen una mayor masa. Ajustando la función $f_M$ para que su integral sea $1$ en el intervalo que hemos considerado, tenemos que\n",
    "$$\n",
    "f_M(m) = \\frac{(1-\\alpha)m^{-\\alpha}}{m_{max}^{1-\\alpha}-m_{min}^{1-\\alpha}}, \\quad m \\in [m_{min}, m_{max}].\n",
    "$$\n",
    "\n",
    "Aplicamos nuevamente el método de la transformada inversa. Para ello, calculamos la función de distribución acumulada $F_M$\n",
    "$$\n",
    "F_M(m) = \\int_{m_{min}}^m f_M(t) dt = \\frac{m^{1-\\alpha} - m_{min}^{1-\\alpha}}{m_{max}^{1-\\alpha}- m_{min}^{1-\\alpha}}\n",
    "$$\n",
    "y utilizando una uniforme $U \\sim \\text{Unif}(0,1)$ tenemos que \n",
    "$$\n",
    "M = F_M^{-1}(U) = \\left(U (m_{max}^{1-\\alpha} - m_{min}^{1-\\alpha}) + m_{min}^{1-\\alpha} \\right)^{1/(1-\\alpha)}\n",
    "$$"
   ]
  },
  {
   "attachments": {},
   "cell_type": "markdown",
   "metadata": {},
   "source": [
    "Las siguientes funciones generan una muestra de $n$ observaciones para las variables aleatorias $D$ y $M$ que acabamos de describir."
   ]
  },
  {
   "cell_type": "code",
   "execution_count": 121,
   "metadata": {},
   "outputs": [],
   "source": [
    "# Genera una muestra de n observaciones de la variable aleatoria X\n",
    "def dataset_point(n, r_min=1.295, r_max=5.0):\n",
    "    u = torch.rand(n)\n",
    "    r_cubed = u * (r_max**3 - r_min**3) + r_min**3\n",
    "    r = r_cubed**(1/3)\n",
    "\n",
    "    u_theta = torch.rand(n)\n",
    "    u_phi = torch.rand(n)\n",
    "    theta = torch.acos(1 - 2 * u_theta)\n",
    "    phi = 2 * torch.pi * u_phi\n",
    "\n",
    "    x = r * torch.sin(theta) * torch.cos(phi)\n",
    "    y = r * torch.sin(theta) * torch.sin(phi)\n",
    "    z = r * torch.cos(theta)\n",
    "\n",
    "    return torch.stack((x, y, z), dim=1)\n",
    "\n",
    "# Genera una muestra de n observaciones de la variable aleatoria D\n",
    "def dataset_distance(n, r_min=1.3, r_max=5.0):\n",
    "    points = dataset_point(2*n, r_min, r_max)\n",
    "    p1 = points[:n]\n",
    "    p2 = points[n:]\n",
    "    return torch.norm(p1 - p2, dim=1)\n",
    "\n",
    "# Genera una muestra de n observaciones de la variable aleatoria M\n",
    "def dataset_mass(n, m_min=0.5, m_max=5.0, alpha=2.3):\n",
    "    inv = 1.0 - alpha\n",
    "    lower = m_min**inv\n",
    "    upper = m_max**inv\n",
    "\n",
    "    u = torch.rand(n)\n",
    "    m = (lower + u*(upper - lower))**(1.0/inv)\n",
    "    return m"
   ]
  },
  {
   "attachments": {},
   "cell_type": "markdown",
   "metadata": {},
   "source": [
    "Utilizando las funciones anteriores podemos crear el conjunto de datos. Nótese que este conjunto de datos se divide en un conjunto de entrenamiento y de test. Además, la muestra de $n$ observaciones de la variable aleatoria D se filtra para quedarnos solo con las observaciones mayores que $1$. También se descartan aquellas interacciones cuya fuerza sea menor que $10^{16}$ N. Por otro lado, el valor de la la constante $G$ en unidades $\\frac{N \\text{ parsec}^2}{\\text{M}_\\odot^2}$ se ha multiplicado por $10^{-17}$. Esto se hace para que los valores con los que trabaje la red no sean tan grandes. Este cambio no supone un problema ya que la función real se puede recuperar multiplicando la función que aprenda la red por $10^{17}$."
   ]
  },
  {
   "cell_type": "code",
   "execution_count": 122,
   "metadata": {},
   "outputs": [],
   "source": [
    "def create_dataset(train_num=20000, test_num=10000):\n",
    "\n",
    "    # Esta función genera un conjunto de datos (x,y) con una cantidad de datos menor a num (porque algunos se filtran)\n",
    "    def generate_grav(num):\n",
    "        # Generamos las distancias y filtramos\n",
    "        d = dataset_distance(num, 1.295, 5)\n",
    "        d = d[d > 1]\n",
    "\n",
    "        # Generamos las masas una vez hemos filtrado\n",
    "        new_num = len(d)\n",
    "        m1 = dataset_mass(new_num)\n",
    "        m2 = dataset_mass(new_num)\n",
    "\n",
    "        # Calculamos el valor de F\n",
    "        G = 2.773\n",
    "        F = G*(m1*m2)/(d**2)\n",
    "\n",
    "        x = torch.stack([m1, m2, d], dim=1)\n",
    "        y = F.unsqueeze(dim=1)\n",
    "\n",
    "        # Filtramos las valores de F muy pequeños\n",
    "        mask = (y.squeeze() > 0.1)\n",
    "        x = x[mask]\n",
    "        y = y[mask]\n",
    "\n",
    "        return x,y\n",
    "\n",
    "    x_train, y_train = generate_grav(train_num)\n",
    "    x_test, y_test = generate_grav(test_num)\n",
    "\n",
    "    dataset = {}\n",
    "    dataset['train_input'] = x_train.to(device)\n",
    "    dataset['test_input'] = x_test.to(device)\n",
    "    dataset['train_label'] = y_train.to(device)\n",
    "    dataset['test_label'] = y_test.to(device)\n",
    "    return dataset\n",
    "\n",
    "dataset = create_dataset()"
   ]
  },
  {
   "attachments": {},
   "cell_type": "markdown",
   "metadata": {},
   "source": [
    "Una vez tenemos el conjunto de datos listo, podemos entrenar la red neuronal. El entrenamiento se hará utilizando regularización para pode simplificar la red. El objetivo es llegar a un estado de la red lo más simple posible para poder interpretarla."
   ]
  },
  {
   "cell_type": "code",
   "execution_count": 123,
   "metadata": {},
   "outputs": [
    {
     "name": "stderr",
     "output_type": "stream",
     "text": [
      "| train_loss: 2.79e-01 | test_loss: 2.08e-01 | reg: 6.75e+00 | : 100%|█| 50/50 [00:12<00:00,  3.95it"
     ]
    },
    {
     "name": "stdout",
     "output_type": "stream",
     "text": [
      "saving model version 0.1\n"
     ]
    },
    {
     "name": "stderr",
     "output_type": "stream",
     "text": [
      "\n"
     ]
    }
   ],
   "source": [
    "# Entrenamos la red con regularización\n",
    "model.fit(dataset, opt=\"LBFGS\", steps=50, lamb=0.03);"
   ]
  },
  {
   "attachments": {},
   "cell_type": "markdown",
   "metadata": {},
   "source": [
    "El resultado del entrenamiento se puede ver en la siguiente imagen."
   ]
  },
  {
   "cell_type": "code",
   "execution_count": 124,
   "metadata": {},
   "outputs": [
    {
     "data": {
      "image/png": "[encoded data removed]",
      "text/plain": [
       "<Figure size 500x400 with 27 Axes>"
      ]
     },
     "metadata": {},
     "output_type": "display_data"
    }
   ],
   "source": [
    "model.plot()"
   ]
  },
  {
   "attachments": {},
   "cell_type": "markdown",
   "metadata": {},
   "source": [
    "La imagen muestra cómo hay muchas aristas y vértices del grafo que no aportan información. Realizamos la poda de estos elementos."
   ]
  },
  {
   "cell_type": "code",
   "execution_count": 125,
   "metadata": {},
   "outputs": [
    {
     "name": "stdout",
     "output_type": "stream",
     "text": [
      "saving model version 0.2\n"
     ]
    }
   ],
   "source": [
    "pruned_model = model.prune(node_th=1e-1, edge_th=1e-1)"
   ]
  },
  {
   "cell_type": "code",
   "execution_count": 126,
   "metadata": {},
   "outputs": [
    {
     "data": {
      "image/png": "[encoded data removed]",
      "text/plain": [
       "<Figure size 500x400 with 7 Axes>"
      ]
     },
     "metadata": {},
     "output_type": "display_data"
    }
   ],
   "source": [
    "# Mostramos el modelo podado\n",
    "pruned_model.plot()"
   ]
  },
  {
   "attachments": {},
   "cell_type": "markdown",
   "metadata": {},
   "source": [
    "Volvemos a entrenar el modelo, una vez realizada la poda."
   ]
  },
  {
   "cell_type": "code",
   "execution_count": 127,
   "metadata": {},
   "outputs": [
    {
     "name": "stderr",
     "output_type": "stream",
     "text": [
      "| train_loss: 1.85e-02 | test_loss: 2.02e-02 | reg: 1.04e+01 | : 100%|█| 100/100 [00:20<00:00,  4.94"
     ]
    },
    {
     "name": "stdout",
     "output_type": "stream",
     "text": [
      "saving model version 0.3\n"
     ]
    },
    {
     "name": "stderr",
     "output_type": "stream",
     "text": [
      "\n"
     ]
    }
   ],
   "source": [
    "pruned_model.fit(dataset, opt=\"LBFGS\", steps=100);"
   ]
  },
  {
   "cell_type": "code",
   "execution_count": 128,
   "metadata": {},
   "outputs": [
    {
     "data": {
      "image/png": "[encoded data removed]",
      "text/plain": [
       "<Figure size 500x400 with 7 Axes>"
      ]
     },
     "metadata": {},
     "output_type": "display_data"
    }
   ],
   "source": [
    "pruned_model.plot()"
   ]
  },
  {
   "attachments": {},
   "cell_type": "markdown",
   "metadata": {},
   "source": [
    "A continuación, vamos a tratar de fijar funciones simbólicas a cada una de las funciones de activación. Para ello, nos ayudamos de la herramienta que proporciona la librería."
   ]
  },
  {
   "cell_type": "code",
   "execution_count": 129,
   "metadata": {},
   "outputs": [
    {
     "name": "stdout",
     "output_type": "stream",
     "text": [
      "    function  fitting r2    r2 loss  complexity  complexity loss  total loss\n",
      "0        log    0.999652 -11.446185           2                2   -0.689237\n",
      "1    1/x^0.5    0.999471 -10.858727           2                2   -0.571745\n",
      "2  1/sqrt(x)    0.999471 -10.858727           2                2   -0.571745\n",
      "3        1/x    0.999121 -10.134965           2                2   -0.426993\n",
      "4      1/x^2    0.998608  -9.478782           2                2   -0.295756\n",
      "    function  fitting r2    r2 loss  complexity  complexity loss  total loss\n",
      "0        log    0.999674 -11.537812           2                2   -0.707562\n",
      "1    1/x^0.5    0.999602 -11.258160           2                2   -0.651632\n",
      "2  1/sqrt(x)    0.999602 -11.258160           2                2   -0.651632\n",
      "3        1/x    0.999329 -10.519491           2                2   -0.503898\n",
      "4      1/x^2    0.998908  -9.826263           2                2   -0.365253\n",
      "    function  fitting r2    r2 loss  complexity  complexity loss  total loss\n",
      "0        log    0.999895 -13.091778           2                2   -1.018356\n",
      "1    1/x^0.5    0.999658 -11.471846           2                2   -0.694369\n",
      "2  1/sqrt(x)    0.999658 -11.471846           2                2   -0.694369\n",
      "3        1/x    0.999353 -10.571015           2                2   -0.514203\n",
      "4      1/x^2    0.998941  -9.869126           2                2   -0.373825\n",
      "  function  fitting r2    r2 loss  complexity  complexity loss  total loss\n",
      "0      exp    0.999723 -11.768247           2                2   -0.753649\n",
      "1        0    0.000000   0.000014           0                0    0.000003\n",
      "2     tanh    0.999680 -11.564389           3                3    0.087122\n",
      "3    1/x^2    0.988328  -6.419522           2                2    0.316096\n",
      "4        x    0.587646  -1.278008           1                1    0.544398\n"
     ]
    }
   ],
   "source": [
    "pruned_model.suggest_symbolic(0,0,0);\n",
    "pruned_model.suggest_symbolic(0,1,0);\n",
    "pruned_model.suggest_symbolic(0,2,0);\n",
    "pruned_model.suggest_symbolic(1,0,0);"
   ]
  },
  {
   "attachments": {},
   "cell_type": "markdown",
   "metadata": {},
   "source": [
    "Los resultados son los siguientes. En la primera capa hay varias funciones que pueden ajustarse muy bien al resultado (la diferencia de puntuación es mínima). Dado que en la segunda capa la función $\\exp$ es claramente la mejor opción, decidimos utilizar en la primera capa la función $\\log$ para todas las funciones de activación, ya que la composición de estas dos funciones se comporta bien. Nótese que si fallamos en la elección, siempre podemos repetir este paso. Probamos con esta elección."
   ]
  },
  {
   "cell_type": "code",
   "execution_count": 130,
   "metadata": {},
   "outputs": [
    {
     "name": "stdout",
     "output_type": "stream",
     "text": [
      "r2 is 0.9996516108512878\n",
      "saving model version 0.4\n",
      "r2 is 0.9996736645698547\n",
      "saving model version 0.5\n",
      "r2 is 0.999895453453064\n",
      "saving model version 0.6\n",
      "r2 is 0.9997233152389526\n",
      "saving model version 0.7\n"
     ]
    }
   ],
   "source": [
    "# Fijamos las funciones de activación a las funciones simbólicas siguientes\n",
    "pruned_model.fix_symbolic(0,0,0, 'log');\n",
    "pruned_model.fix_symbolic(0,1,0, 'log');\n",
    "pruned_model.fix_symbolic(0,2,0, 'log');\n",
    "pruned_model.fix_symbolic(1,0,0, 'exp');"
   ]
  },
  {
   "attachments": {},
   "cell_type": "markdown",
   "metadata": {},
   "source": [
    "Volvemso a entrenar el modelo y vemos el resultado."
   ]
  },
  {
   "cell_type": "code",
   "execution_count": 131,
   "metadata": {},
   "outputs": [
    {
     "name": "stderr",
     "output_type": "stream",
     "text": [
      "| train_loss: 1.19e-06 | test_loss: 1.11e-06 | reg: 0.00e+00 | : 100%|█| 100/100 [00:07<00:00, 12.72"
     ]
    },
    {
     "name": "stdout",
     "output_type": "stream",
     "text": [
      "saving model version 0.8\n"
     ]
    },
    {
     "name": "stderr",
     "output_type": "stream",
     "text": [
      "\n"
     ]
    }
   ],
   "source": [
    "# Volvemos a entrenar el modelo\n",
    "pruned_model.fit(dataset, opt=\"LBFGS\", steps=100);"
   ]
  },
  {
   "cell_type": "code",
   "execution_count": 132,
   "metadata": {},
   "outputs": [
    {
     "data": {
      "image/png": "[encoded data removed]",
      "text/plain": [
       "<Figure size 500x400 with 7 Axes>"
      ]
     },
     "metadata": {},
     "output_type": "display_data"
    }
   ],
   "source": [
    "pruned_model.plot()"
   ]
  },
  {
   "attachments": {},
   "cell_type": "markdown",
   "metadata": {},
   "source": [
    "Como podemos ver la fórmula obtenida se ajusta correctamente a la función que queríamos aprender, recuperando incluso la constante. Nótese que para recuperar la función original bastería con multiplicar por $10^{17}$ la función obtenida."
   ]
  },
  {
   "cell_type": "code",
   "execution_count": 133,
   "metadata": {},
   "outputs": [
    {
     "data": {
      "text/latex": [
       "$\\displaystyle \\frac{2.773 x_{1}^{1.0} x_{2}^{1.0}}{x_{3}^{2.0}}$"
      ],
      "text/plain": [
       "2.773*x_1**1.0*x_2**1.0/x_3**2.0"
      ]
     },
     "execution_count": 133,
     "metadata": {},
     "output_type": "execute_result"
    }
   ],
   "source": [
    "formula = pruned_model.symbolic_formula()[0][0]\n",
    "ex_round(formula, 4)"
   ]
  }
 ],
 "metadata": {
  "kernelspec": {
   "display_name": "pykan-env",
   "language": "python",
   "name": "python3"
  },
  "language_info": {
   "codemirror_mode": {
    "name": "ipython",
    "version": 3
   },
   "file_extension": ".py",
   "mimetype": "text/x-python",
   "name": "python",
   "nbconvert_exporter": "python",
   "pygments_lexer": "ipython3",
   "version": "3.9.7"
  },
  "orig_nbformat": 4
 },
 "nbformat": 4,
 "nbformat_minor": 2
}
