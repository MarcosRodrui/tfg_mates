{
 "cells": [
  {
   "attachments": {},
   "cell_type": "markdown",
   "metadata": {},
   "source": [
    "# 2. Ley de gravitación universal con más entradas"
   ]
  },
  {
   "attachments": {},
   "cell_type": "markdown",
   "metadata": {},
   "source": [
    "En este cuadernillo repetiremos el experimento de **00_grav_law**, pero añadiendo más entradas a la red neuronal. Las entradas que añadimos no están relacionadas con la función que queremos predecir y el objetivo es ver cómo se comporta el modelo."
   ]
  },
  {
   "attachments": {},
   "cell_type": "markdown",
   "metadata": {},
   "source": [
    "Repetimos los mismo pasos que en el cuadernillo anterior. Solo se destacan los cambios más relevantes.\n",
    "\n",
    "A continuación, definimos las funciones para crear los conjuntos de datos."
   ]
  },
  {
   "cell_type": "code",
   "execution_count": 1,
   "metadata": {},
   "outputs": [],
   "source": [
    "from kan import *\n",
    "\n",
    "device = torch.device('cuda' if torch.cuda.is_available() else 'cpu')"
   ]
  },
  {
   "cell_type": "code",
   "execution_count": 2,
   "metadata": {},
   "outputs": [],
   "source": [
    "# Genera una muestra de n observaciones de la variable aleatoria X\n",
    "def dataset_point(n, r_min=1.295, r_max=5.0):\n",
    "    u = torch.rand(n)\n",
    "    r_cubed = u * (r_max**3 - r_min**3) + r_min**3\n",
    "    r = r_cubed**(1/3)\n",
    "\n",
    "    u_theta = torch.rand(n)\n",
    "    u_phi = torch.rand(n)\n",
    "    theta = torch.acos(1 - 2 * u_theta)\n",
    "    phi = 2 * torch.pi * u_phi\n",
    "\n",
    "    x = r * torch.sin(theta) * torch.cos(phi)\n",
    "    y = r * torch.sin(theta) * torch.sin(phi)\n",
    "    z = r * torch.cos(theta)\n",
    "\n",
    "    return torch.stack((x, y, z), dim=1)\n",
    "\n",
    "# Genera una muestra de n observaciones de la variable aleatoria D\n",
    "def dataset_distance(n, r_min=1.3, r_max=5.0):\n",
    "    points = dataset_point(2*n, r_min, r_max)\n",
    "    p1 = points[:n]\n",
    "    p2 = points[n:]\n",
    "    return torch.norm(p1 - p2, dim=1)\n",
    "\n",
    "# Genera una muestra de n observaciones de la variable aleatoria M\n",
    "def dataset_mass(n, m_min=0.5, m_max=5.0, alpha=2.3):\n",
    "    inv = 1.0 - alpha\n",
    "    lower = m_min**inv\n",
    "    upper = m_max**inv\n",
    "\n",
    "    u = torch.rand(n)\n",
    "    m = (lower + u*(upper - lower))**(1.0/inv)\n",
    "    return m"
   ]
  },
  {
   "attachments": {},
   "cell_type": "markdown",
   "metadata": {},
   "source": [
    "La siguiente función genera el conjunto de datos con dos variables $x_1$ y $x_2$ que no están relacionadas con la función $F$."
   ]
  },
  {
   "cell_type": "code",
   "execution_count": 16,
   "metadata": {},
   "outputs": [],
   "source": [
    "def create_dataset_extra_input(train_num=20000, test_num=10000):\n",
    "\n",
    "    # Esta función genera un conjunto de datos (x,y) con una cantidad de datos menor a num (porque algunos se filtran)\n",
    "    def generate_grav(num):\n",
    "        # Generamos las distancias y filtramos\n",
    "        d = dataset_distance(num, 1.295, 5)\n",
    "        d = d[d > 1]\n",
    "\n",
    "        # Generamos las masas una vez hemos filtrado\n",
    "        new_num = len(d)\n",
    "        m1 = dataset_mass(new_num)\n",
    "        m2 = dataset_mass(new_num)\n",
    "\n",
    "        # Calculamos el valor de F\n",
    "        G = 2.773\n",
    "        F = G*(m1*m2)/(d**2)\n",
    "\n",
    "        # Añadimos variables irrelaventes\n",
    "        x1 = 1 + 4*torch.distributions.Beta(2.0, 5.0).sample((new_num, )) # Toma valores entre [1,4]\n",
    "        x2 = 1 + 4*torch.distributions.Beta(5.0, 2.0).sample((new_num, )) # Toma valores entre [1,4]\n",
    "\n",
    "        x = torch.stack([m1, m2, d, x1, x2], dim=1)\n",
    "        y = F.unsqueeze(dim=1)\n",
    "\n",
    "        # Filtramos las valores de F muy pequeños\n",
    "        mask = (y.squeeze() > 0.1)\n",
    "        x = x[mask]\n",
    "        y = y[mask]\n",
    "\n",
    "        return x,y\n",
    "\n",
    "    x_train, y_train = generate_grav(train_num)\n",
    "    x_test, y_test = generate_grav(test_num)\n",
    "\n",
    "    dataset = {}\n",
    "    dataset['train_input'] = x_train.to(device)\n",
    "    dataset['test_input'] = x_test.to(device)\n",
    "    dataset['train_label'] = y_train.to(device)\n",
    "    dataset['test_label'] = y_test.to(device)\n",
    "    return dataset"
   ]
  },
  {
   "cell_type": "code",
   "execution_count": 23,
   "metadata": {},
   "outputs": [
    {
     "name": "stdout",
     "output_type": "stream",
     "text": [
      "checkpoint directory created: ./model\n",
      "saving model version 0.0\n"
     ]
    }
   ],
   "source": [
    "# Iniciamos la KAN\n",
    "model = KAN(width=[5,5,1], grid=3, k=3, seed=2020, device=device);\n",
    "\n",
    "dataset = create_dataset_extra_input()"
   ]
  },
  {
   "cell_type": "code",
   "execution_count": 24,
   "metadata": {},
   "outputs": [
    {
     "name": "stderr",
     "output_type": "stream",
     "text": [
      "| train_loss: 1.80e-01 | test_loss: 3.28e-01 | reg: 5.20e+00 | : 100%|█| 50/50 [00:13<00:00,  3.75it"
     ]
    },
    {
     "name": "stdout",
     "output_type": "stream",
     "text": [
      "saving model version 0.1\n"
     ]
    },
    {
     "name": "stderr",
     "output_type": "stream",
     "text": [
      "\n"
     ]
    }
   ],
   "source": [
    "# Entrenamos la red con regularización\n",
    "model.fit(dataset, opt=\"LBFGS\", steps=50, lamb=0.03);"
   ]
  },
  {
   "attachments": {},
   "cell_type": "markdown",
   "metadata": {},
   "source": [
    "Esta gráfica muestra como el modelo ha sido capaz de darse cuenta que las dos últimas entradas no están relacionadas con la función que tratamos de aprender."
   ]
  },
  {
   "cell_type": "code",
   "execution_count": 25,
   "metadata": {},
   "outputs": [
    {
     "data": {
      "image/png": "[encoded data removed]",
      "text/plain": [
       "<Figure size 500x400 with 37 Axes>"
      ]
     },
     "metadata": {},
     "output_type": "display_data"
    }
   ],
   "source": [
    "# Visualizamos la red\n",
    "model.plot()"
   ]
  },
  {
   "cell_type": "code",
   "execution_count": 26,
   "metadata": {},
   "outputs": [
    {
     "name": "stdout",
     "output_type": "stream",
     "text": [
      "saving model version 0.2\n"
     ]
    }
   ],
   "source": [
    "# Podamos la red\n",
    "pruned_model = model.prune(node_th=1e-1, edge_th=1e-1)"
   ]
  },
  {
   "attachments": {},
   "cell_type": "markdown",
   "metadata": {},
   "source": [
    "Una vez hemos realizado la poda, esas entradas ya no se muestran."
   ]
  },
  {
   "cell_type": "code",
   "execution_count": 27,
   "metadata": {},
   "outputs": [
    {
     "data": {
      "image/png": "[encoded data removed]",
      "text/plain": [
       "<Figure size 500x400 with 9 Axes>"
      ]
     },
     "metadata": {},
     "output_type": "display_data"
    }
   ],
   "source": [
    "# Mostramos el modelo podado\n",
    "pruned_model.plot()"
   ]
  },
  {
   "cell_type": "code",
   "execution_count": 28,
   "metadata": {},
   "outputs": [
    {
     "name": "stderr",
     "output_type": "stream",
     "text": [
      "| train_loss: 1.65e-02 | test_loss: 3.23e-02 | reg: 8.47e+00 | : 100%|█| 100/100 [00:20<00:00,  4.94"
     ]
    },
    {
     "name": "stdout",
     "output_type": "stream",
     "text": [
      "saving model version 0.3\n"
     ]
    },
    {
     "name": "stderr",
     "output_type": "stream",
     "text": [
      "\n"
     ]
    }
   ],
   "source": [
    "# Volvemos a entrenar el modelo tras la poda\n",
    "pruned_model.fit(dataset, opt=\"LBFGS\", steps=100);"
   ]
  },
  {
   "cell_type": "code",
   "execution_count": 29,
   "metadata": {},
   "outputs": [
    {
     "data": {
      "image/png": "[encoded data removed]",
      "text/plain": [
       "<Figure size 500x400 with 9 Axes>"
      ]
     },
     "metadata": {},
     "output_type": "display_data"
    }
   ],
   "source": [
    "pruned_model.plot()"
   ]
  },
  {
   "cell_type": "code",
   "execution_count": 30,
   "metadata": {},
   "outputs": [
    {
     "name": "stdout",
     "output_type": "stream",
     "text": [
      "    function  fitting r2    r2 loss  complexity  complexity loss  total loss\n",
      "0        log    0.999687 -11.597049           2                2   -0.719410\n",
      "1    1/x^0.5    0.999627 -11.351694           2                2   -0.670339\n",
      "2  1/sqrt(x)    0.999627 -11.351694           2                2   -0.670339\n",
      "3        1/x    0.999347 -10.558901           2                2   -0.511780\n",
      "4      1/x^2    0.998908  -9.825404           2                2   -0.365081\n",
      "    function  fitting r2    r2 loss  complexity  complexity loss  total loss\n",
      "0    1/x^0.5    0.999625 -11.341839           2                2   -0.668368\n",
      "1  1/sqrt(x)    0.999625 -11.341839           2                2   -0.668368\n",
      "2        log    0.999577 -11.172901           2                2   -0.634580\n",
      "3        1/x    0.999387 -10.647436           2                2   -0.529487\n",
      "4      1/x^2    0.998978  -9.920534           2                2   -0.384107\n",
      "    function  fitting r2    r2 loss  complexity  complexity loss  total loss\n",
      "0    1/x^0.5    0.999684 -11.580890           2                2   -0.716178\n",
      "1  1/sqrt(x)    0.999684 -11.580890           2                2   -0.716178\n",
      "2        log    0.999677 -11.552976           2                2   -0.710595\n",
      "3        1/x    0.999508 -10.960435           2                2   -0.592087\n",
      "4      1/x^2    0.999230 -10.324068           2                2   -0.464814\n",
      "  function  fitting r2    r2 loss  complexity  complexity loss  total loss\n",
      "0      exp    0.999778 -12.070826           2                2   -0.814165\n",
      "1        0    0.000000   0.000014           0                0    0.000003\n",
      "2     tanh    0.999254 -10.368394           3                3    0.326321\n",
      "3        x    0.513050  -1.038126           1                1    0.592375\n",
      "4    1/x^2    0.964686  -4.823194           2                2    0.635361\n"
     ]
    }
   ],
   "source": [
    "# Vamos a ver si podemos ajustar funciones simbólicas\n",
    "pruned_model.suggest_symbolic(0,0,0);\n",
    "pruned_model.suggest_symbolic(0,1,0);\n",
    "pruned_model.suggest_symbolic(0,2,0);\n",
    "pruned_model.suggest_symbolic(1,0,0);"
   ]
  },
  {
   "attachments": {},
   "cell_type": "markdown",
   "metadata": {},
   "source": [
    "Podemos utilizar un razonamiento similar al del otro cuardernillo para elegir $\\log$ en la primera capa y $\\exp$ en la segunda."
   ]
  },
  {
   "cell_type": "code",
   "execution_count": 31,
   "metadata": {},
   "outputs": [
    {
     "name": "stdout",
     "output_type": "stream",
     "text": [
      "r2 is 0.9996871948242188\n",
      "saving model version 0.4\n",
      "r2 is 0.9995768666267395\n",
      "saving model version 0.5\n",
      "r2 is 0.9996771812438965\n",
      "saving model version 0.6\n",
      "r2 is 0.9997775554656982\n",
      "saving model version 0.7\n"
     ]
    }
   ],
   "source": [
    "# Fijamos las funciones de activación a las funciones simbólicas siguientes\n",
    "pruned_model.fix_symbolic(0,0,0, 'log');\n",
    "pruned_model.fix_symbolic(0,1,0, 'log');\n",
    "pruned_model.fix_symbolic(0,2,0, 'log');\n",
    "pruned_model.fix_symbolic(1,0,0, 'exp');"
   ]
  },
  {
   "attachments": {},
   "cell_type": "markdown",
   "metadata": {},
   "source": [
    "Volvemso a entrenar el modelo y vemos el resultado."
   ]
  },
  {
   "cell_type": "code",
   "execution_count": 32,
   "metadata": {},
   "outputs": [
    {
     "name": "stderr",
     "output_type": "stream",
     "text": [
      "| train_loss: 2.83e-07 | test_loss: 2.83e-07 | reg: 0.00e+00 | : 100%|█| 100/100 [00:09<00:00, 10.75"
     ]
    },
    {
     "name": "stdout",
     "output_type": "stream",
     "text": [
      "saving model version 0.8\n"
     ]
    },
    {
     "name": "stderr",
     "output_type": "stream",
     "text": [
      "\n"
     ]
    }
   ],
   "source": [
    "# Volvemos a entrenar el modelo\n",
    "pruned_model.fit(dataset, opt=\"LBFGS\", steps=100);"
   ]
  },
  {
   "cell_type": "code",
   "execution_count": 33,
   "metadata": {},
   "outputs": [
    {
     "data": {
      "image/png": "[encoded data removed]",
      "text/plain": [
       "<Figure size 500x400 with 9 Axes>"
      ]
     },
     "metadata": {},
     "output_type": "display_data"
    }
   ],
   "source": [
    "pruned_model.plot()"
   ]
  },
  {
   "attachments": {},
   "cell_type": "markdown",
   "metadata": {},
   "source": [
    "Como podemos ver, obtenemos una aproximación muy buena donde las dos variables que hemos introducido de forma artificial no aparecen."
   ]
  },
  {
   "cell_type": "code",
   "execution_count": 34,
   "metadata": {},
   "outputs": [
    {
     "data": {
      "text/latex": [
       "$\\displaystyle \\frac{2.773 x_{1}^{1.0} x_{2}^{1.0}}{x_{3}^{2.0}}$"
      ],
      "text/plain": [
       "2.773*x_1**1.0*x_2**1.0/x_3**2.0"
      ]
     },
     "execution_count": 34,
     "metadata": {},
     "output_type": "execute_result"
    }
   ],
   "source": [
    "formula = pruned_model.symbolic_formula()[0][0]\n",
    "ex_round(formula, 4)"
   ]
  },
  {
   "cell_type": "code",
   "execution_count": 138,
   "metadata": {},
   "outputs": [
    {
     "name": "stderr",
     "output_type": "stream",
     "text": [
      "| train_loss: 2.56e-01 | test_loss: 2.24e-01 | reg: 5.66e+00 | : 100%|█| 50/50 [00:13<00:00,  3.69it"
     ]
    },
    {
     "name": "stdout",
     "output_type": "stream",
     "text": [
      "saving model version 0.1\n"
     ]
    },
    {
     "name": "stderr",
     "output_type": "stream",
     "text": [
      "\n"
     ]
    }
   ],
   "source": [
    "# Entrenamos la red con regularización\n",
    "model.fit(dataset, opt=\"LBFGS\", steps=50, lamb=0.02);"
   ]
  }
 ],
 "metadata": {
  "kernelspec": {
   "display_name": "pykan-env",
   "language": "python",
   "name": "python3"
  },
  "language_info": {
   "codemirror_mode": {
    "name": "ipython",
    "version": 3
   },
   "file_extension": ".py",
   "mimetype": "text/x-python",
   "name": "python",
   "nbconvert_exporter": "python",
   "pygments_lexer": "ipython3",
   "version": "3.9.7"
  },
  "orig_nbformat": 4
 },
 "nbformat": 4,
 "nbformat_minor": 2
}
