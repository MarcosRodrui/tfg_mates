{
 "cells": [
  {
   "attachments": {},
   "cell_type": "markdown",
   "metadata": {},
   "source": [
    "# 4. Ley de gravitación universal con entrada derivada"
   ]
  },
  {
   "attachments": {},
   "cell_type": "markdown",
   "metadata": {},
   "source": [
    "En este cuadernillo repetiremos el experimento de **00_grav_law**, pero cambiamos una entrada por un valor derivado de la misma. El objetivo es ver cómo se comporta el modelo."
   ]
  },
  {
   "attachments": {},
   "cell_type": "markdown",
   "metadata": {},
   "source": [
    "Repetimos los mismo pasos que en el cuadernillo anterior. Solo se destacan los cambios más relevantes.\n",
    "\n",
    "A continuación, definimos las funciones para crear los conjuntos de datos."
   ]
  },
  {
   "cell_type": "code",
   "execution_count": 1,
   "metadata": {},
   "outputs": [],
   "source": [
    "from kan import *\n",
    "\n",
    "device = torch.device('cuda' if torch.cuda.is_available() else 'cpu')"
   ]
  },
  {
   "cell_type": "code",
   "execution_count": 2,
   "metadata": {},
   "outputs": [],
   "source": [
    "# Genera una muestra de n observaciones de la variable aleatoria X\n",
    "def dataset_point(n, r_min=1.295, r_max=5.0):\n",
    "    u = torch.rand(n)\n",
    "    r_cubed = u * (r_max**3 - r_min**3) + r_min**3\n",
    "    r = r_cubed**(1/3)\n",
    "\n",
    "    u_theta = torch.rand(n)\n",
    "    u_phi = torch.rand(n)\n",
    "    theta = torch.acos(1 - 2 * u_theta)\n",
    "    phi = 2 * torch.pi * u_phi\n",
    "\n",
    "    x = r * torch.sin(theta) * torch.cos(phi)\n",
    "    y = r * torch.sin(theta) * torch.sin(phi)\n",
    "    z = r * torch.cos(theta)\n",
    "\n",
    "    return torch.stack((x, y, z), dim=1)\n",
    "\n",
    "# Genera una muestra de n observaciones de la variable aleatoria D\n",
    "def dataset_distance(n, r_min=1.3, r_max=5.0):\n",
    "    points = dataset_point(2*n, r_min, r_max)\n",
    "    p1 = points[:n]\n",
    "    p2 = points[n:]\n",
    "    return torch.norm(p1 - p2, dim=1)\n",
    "\n",
    "# Genera una muestra de n observaciones de la variable aleatoria M\n",
    "def dataset_mass(n, m_min=0.5, m_max=5.0, alpha=2.3):\n",
    "    inv = 1.0 - alpha\n",
    "    lower = m_min**inv\n",
    "    upper = m_max**inv\n",
    "\n",
    "    u = torch.rand(n)\n",
    "    m = (lower + u*(upper - lower))**(1.0/inv)\n",
    "    return m"
   ]
  },
  {
   "attachments": {},
   "cell_type": "markdown",
   "metadata": {},
   "source": [
    "La siguiente función genera el conjunto de datos, pero en vez de utilizar $d$ utilizamos su raíz cúbica."
   ]
  },
  {
   "cell_type": "code",
   "execution_count": 3,
   "metadata": {},
   "outputs": [],
   "source": [
    "def create_dataset_extra_input(train_num=10000, test_num=5000):\n",
    "\n",
    "    # Esta función genera un conjunto de datos (x,y) con una cantidad de datos menor a num (porque algunos se filtran)\n",
    "    def generate_grav(num):\n",
    "        # Generamos las distancias y filtramos\n",
    "        d = dataset_distance(num, 1.295, 5)\n",
    "        d = d[d > 1]\n",
    "\n",
    "        # Generamos las masas una vez hemos filtrado\n",
    "        new_num = len(d)\n",
    "        m1 = dataset_mass(new_num)\n",
    "        m2 = dataset_mass(new_num)\n",
    "\n",
    "        # Calculamos el valor de F donde usamos la raíz cúbica de d\n",
    "        G = 2.773\n",
    "        F = G*(m1*m2)/(d**(2/3))\n",
    "\n",
    "        # Añadimos variable relacionada con d\n",
    "        x1 = d**2\n",
    "\n",
    "        x = torch.stack([m1, m2, d, x1], dim=1)\n",
    "        y = F.unsqueeze(dim=1)\n",
    "\n",
    "        # Filtramos las valores de F muy pequeños\n",
    "        mask = (y.squeeze() > 0.1)\n",
    "        x = x[mask]\n",
    "        y = y[mask]\n",
    "\n",
    "        return x,y\n",
    "\n",
    "    x_train, y_train = generate_grav(train_num)\n",
    "    x_test, y_test = generate_grav(test_num)\n",
    "\n",
    "    dataset = {}\n",
    "    dataset['train_input'] = x_train.to(device)\n",
    "    dataset['test_input'] = x_test.to(device)\n",
    "    dataset['train_label'] = y_train.to(device)\n",
    "    dataset['test_label'] = y_test.to(device)\n",
    "    return dataset"
   ]
  },
  {
   "cell_type": "code",
   "execution_count": 28,
   "metadata": {},
   "outputs": [
    {
     "name": "stdout",
     "output_type": "stream",
     "text": [
      "checkpoint directory created: ./model\n",
      "saving model version 0.0\n"
     ]
    }
   ],
   "source": [
    "# Iniciamos la KAN\n",
    "model = KAN(width=[3,5,1], grid=3, k=3, seed=2026, device=device);\n",
    "\n",
    "dataset = create_dataset_extra_input()"
   ]
  },
  {
   "cell_type": "code",
   "execution_count": 29,
   "metadata": {},
   "outputs": [
    {
     "name": "stderr",
     "output_type": "stream",
     "text": [
      "| train_loss: 9.20e-02 | test_loss: 1.32e-01 | reg: 5.93e+00 | : 100%|█| 100/100 [00:28<00:00,  3.53"
     ]
    },
    {
     "name": "stdout",
     "output_type": "stream",
     "text": [
      "saving model version 0.1\n"
     ]
    },
    {
     "name": "stderr",
     "output_type": "stream",
     "text": [
      "\n"
     ]
    }
   ],
   "source": [
    "# Entrenamos la red con regularización\n",
    "model.fit(dataset, opt=\"LBFGS\", steps=100, lamb=0.03);"
   ]
  },
  {
   "cell_type": "code",
   "execution_count": 30,
   "metadata": {},
   "outputs": [
    {
     "data": {
      "image/png": "[encoded data removed]",
      "text/plain": [
       "<Figure size 500x400 with 27 Axes>"
      ]
     },
     "metadata": {},
     "output_type": "display_data"
    }
   ],
   "source": [
    "# Visualizamos la red\n",
    "model.plot()"
   ]
  },
  {
   "cell_type": "code",
   "execution_count": 31,
   "metadata": {},
   "outputs": [
    {
     "name": "stdout",
     "output_type": "stream",
     "text": [
      "saving model version 0.2\n"
     ]
    }
   ],
   "source": [
    "# Podamos la red\n",
    "pruned_model = model.prune(node_th=1e-1, edge_th=1e-1)"
   ]
  },
  {
   "cell_type": "code",
   "execution_count": 32,
   "metadata": {},
   "outputs": [
    {
     "data": {
      "image/png": "[encoded data removed]",
      "text/plain": [
       "<Figure size 500x400 with 7 Axes>"
      ]
     },
     "metadata": {},
     "output_type": "display_data"
    }
   ],
   "source": [
    "# Mostramos el modelo podado\n",
    "pruned_model.plot()"
   ]
  },
  {
   "cell_type": "code",
   "execution_count": 33,
   "metadata": {},
   "outputs": [
    {
     "name": "stderr",
     "output_type": "stream",
     "text": [
      "| train_loss: 2.70e-02 | test_loss: 4.43e-02 | reg: 1.07e+01 | : 100%|█| 100/100 [00:20<00:00,  4.97"
     ]
    },
    {
     "name": "stdout",
     "output_type": "stream",
     "text": [
      "saving model version 0.3\n"
     ]
    },
    {
     "name": "stderr",
     "output_type": "stream",
     "text": [
      "\n"
     ]
    }
   ],
   "source": [
    "# Volvemos a entrenar el modelo tras la poda\n",
    "pruned_model.fit(dataset, opt=\"LBFGS\", steps=100);"
   ]
  },
  {
   "cell_type": "code",
   "execution_count": 34,
   "metadata": {},
   "outputs": [
    {
     "data": {
      "image/png": "[encoded data removed]",
      "text/plain": [
       "<Figure size 500x400 with 7 Axes>"
      ]
     },
     "metadata": {},
     "output_type": "display_data"
    }
   ],
   "source": [
    "pruned_model.plot()"
   ]
  },
  {
   "cell_type": "code",
   "execution_count": 35,
   "metadata": {},
   "outputs": [
    {
     "name": "stdout",
     "output_type": "stream",
     "text": [
      "    function  fitting r2    r2 loss  complexity  complexity loss  total loss\n",
      "0        log    0.999749 -11.904019           2                2   -0.780804\n",
      "1    1/x^0.5    0.999604 -11.265762           2                2   -0.653152\n",
      "2  1/sqrt(x)    0.999604 -11.265762           2                2   -0.653152\n",
      "3        1/x    0.999285 -10.430409           2                2   -0.486082\n",
      "4      1/x^2    0.998807  -9.698877           2                2   -0.339775\n",
      "    function  fitting r2    r2 loss  complexity  complexity loss  total loss\n",
      "0        log    0.999753 -11.925935           2                2   -0.785187\n",
      "1    1/x^0.5    0.999630 -11.362747           2                2   -0.672549\n",
      "2  1/sqrt(x)    0.999630 -11.362747           2                2   -0.672549\n",
      "3        1/x    0.999319 -10.499311           2                2   -0.499862\n",
      "4      1/x^2    0.998845  -9.745579           2                2   -0.349116\n",
      "    function  fitting r2    r2 loss  complexity  complexity loss  total loss\n",
      "0        log    0.999934 -13.683976           2                2   -1.136795\n",
      "1    1/x^0.5    0.999600 -11.251645           2                2   -0.650329\n",
      "2  1/sqrt(x)    0.999600 -11.251645           2                2   -0.650329\n",
      "3        1/x    0.999222 -10.308827           2                2   -0.461765\n",
      "4      1/x^2    0.998731  -9.610922           2                2   -0.322184\n",
      "  function  fitting r2    r2 loss  complexity  complexity loss  total loss\n",
      "0      exp    0.999468 -10.849496           2                2   -0.569899\n",
      "1        0    0.000000   0.000014           0                0    0.000003\n",
      "2    1/x^2    0.983551  -5.925013           2                2    0.414997\n",
      "3        x    0.661249  -1.561661           1                1    0.487668\n",
      "4     tanh    0.998670  -9.543275           3                3    0.491345\n"
     ]
    }
   ],
   "source": [
    "# Vamos a ver si podemos ajustar funciones simbólicas\n",
    "pruned_model.suggest_symbolic(0,0,0);\n",
    "pruned_model.suggest_symbolic(0,1,0);\n",
    "pruned_model.suggest_symbolic(0,2,0);\n",
    "pruned_model.suggest_symbolic(1,0,0);"
   ]
  },
  {
   "attachments": {},
   "cell_type": "markdown",
   "metadata": {},
   "source": [
    "Podemos utilizar un razonamiento similar al del otro cuardernillo para elegir $\\log$ en la primera capa y $\\exp$ en la segunda."
   ]
  },
  {
   "cell_type": "code",
   "execution_count": 36,
   "metadata": {},
   "outputs": [
    {
     "name": "stdout",
     "output_type": "stream",
     "text": [
      "r2 is 0.9997490644454956\n",
      "saving model version 0.4\n",
      "r2 is 0.9997529983520508\n",
      "saving model version 0.5\n",
      "r2 is 0.9999340176582336\n",
      "saving model version 0.6\n",
      "r2 is 0.9994680285453796\n",
      "saving model version 0.7\n"
     ]
    }
   ],
   "source": [
    "# Fijamos las funciones de activación a las funciones simbólicas siguientes\n",
    "pruned_model.fix_symbolic(0,0,0, 'log');\n",
    "pruned_model.fix_symbolic(0,1,0, 'log');\n",
    "pruned_model.fix_symbolic(0,2,0, 'log');\n",
    "pruned_model.fix_symbolic(1,0,0, 'exp');"
   ]
  },
  {
   "attachments": {},
   "cell_type": "markdown",
   "metadata": {},
   "source": [
    "Volvemso a entrenar el modelo y vemos el resultado."
   ]
  },
  {
   "cell_type": "code",
   "execution_count": 37,
   "metadata": {},
   "outputs": [
    {
     "name": "stderr",
     "output_type": "stream",
     "text": [
      "| train_loss: 1.35e-06 | test_loss: 1.34e-06 | reg: 0.00e+00 | : 100%|█| 100/100 [00:09<00:00, 10.28"
     ]
    },
    {
     "name": "stdout",
     "output_type": "stream",
     "text": [
      "saving model version 0.8\n"
     ]
    },
    {
     "name": "stderr",
     "output_type": "stream",
     "text": [
      "\n"
     ]
    }
   ],
   "source": [
    "# Volvemos a entrenar el modelo\n",
    "pruned_model.fit(dataset, opt=\"LBFGS\", steps=100);"
   ]
  },
  {
   "cell_type": "code",
   "execution_count": 38,
   "metadata": {},
   "outputs": [
    {
     "data": {
      "image/png": "[encoded data removed]",
      "text/plain": [
       "<Figure size 500x400 with 7 Axes>"
      ]
     },
     "metadata": {},
     "output_type": "display_data"
    }
   ],
   "source": [
    "pruned_model.plot()"
   ]
  },
  {
   "attachments": {},
   "cell_type": "markdown",
   "metadata": {},
   "source": [
    "Como podemos ver, obtenemos una aproximación muy buena de la función objetivo."
   ]
  },
  {
   "cell_type": "code",
   "execution_count": 39,
   "metadata": {},
   "outputs": [
    {
     "data": {
      "text/latex": [
       "$\\displaystyle \\frac{2.773 x_{1}^{1.0} x_{2}^{1.0}}{x_{3}^{0.6667}}$"
      ],
      "text/plain": [
       "2.773*x_1**1.0*x_2**1.0/x_3**0.6667"
      ]
     },
     "execution_count": 39,
     "metadata": {},
     "output_type": "execute_result"
    }
   ],
   "source": [
    "formula = pruned_model.symbolic_formula()[0][0]\n",
    "ex_round(formula, 4)"
   ]
  }
 ],
 "metadata": {
  "kernelspec": {
   "display_name": "pykan-env",
   "language": "python",
   "name": "python3"
  },
  "language_info": {
   "codemirror_mode": {
    "name": "ipython",
    "version": 3
   },
   "file_extension": ".py",
   "mimetype": "text/x-python",
   "name": "python",
   "nbconvert_exporter": "python",
   "pygments_lexer": "ipython3",
   "version": "3.9.7"
  },
  "orig_nbformat": 4
 },
 "nbformat": 4,
 "nbformat_minor": 2
}
