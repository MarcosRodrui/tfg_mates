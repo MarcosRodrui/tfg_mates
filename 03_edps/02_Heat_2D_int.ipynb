{
 "cells": [
  {
   "attachments": {},
   "cell_type": "markdown",
   "metadata": {},
   "source": [
    "# 02. Heat Equation (Intento de fallido de recuperación simbólica)"
   ]
  },
  {
   "attachments": {},
   "cell_type": "markdown",
   "metadata": {},
   "source": [
    "Intento de recuperación simbólica de EDP. No he conseguido terminarlo. Este ejemplo prueba la librería de resolución de EDPs con la ecuación del calor\n",
    "$$\n",
    "\\left\\{\n",
    "\\begin{array}{l}\n",
    "\\displaystyle \\frac{\\partial u}{\\partial t} = k \\partial \\frac{\\partial^2 u}{\\partial x^2} \\\\\n",
    "u(x,0)=f(x) \\quad u(0,t)=0 \\quad u(L,t) = 0\n",
    "\\end{array}\n",
    "\\right.\n",
    "$$\n",
    "donde tomaremos $f(x)= 6 \\sin \\left(\\frac{\\pi x}{L} \\right)$, $L=2$, $k=1$. Además tomaremos $x \\in [0,L], t \\in [0,1]$.\n",
    "\n",
    "La solución de la EPD es\n",
    "$$\n",
    "u(x,t)=6 \\sin \\left(\\frac{\\pi x}{L} \\right) e^{-k \\left(\\frac{\\pi}{L}\\right)^2 t}\n",
    "$$"
   ]
  },
  {
   "cell_type": "code",
   "execution_count": 34,
   "metadata": {},
   "outputs": [],
   "source": [
    "# Iniciamos la clase comparador de MLP vs KAN\n",
    "from edp_lib.edp_comparator import EDPComparator\n",
    "import torch\n",
    "import numpy as np"
   ]
  },
  {
   "cell_type": "code",
   "execution_count": 122,
   "metadata": {},
   "outputs": [],
   "source": [
    "# Describimos la EDP usando la librería\n",
    "L=2\n",
    "k=1\n",
    "\n",
    "comparator = EDPComparator(\"2D_new\") # Bajo este nombre se guardan los resultados\n",
    "comparator.configure_variables({ # Configuramos el rango de las variables en el entrenamiento\n",
    "    \"x\": (0, L),\n",
    "    \"t\": (0, 1)\n",
    "})\n",
    "comparator.configure_outputs([\"u\"]) # Nombramos las funciones que debe aprender el modelo\n",
    "comparator.configure_pde([lambda u_t, u_xx : u_t - k*u_xx]) # Definimos la edp\n",
    "comparator.configure_boundaries([ # Definimos las condiciones de frontera\n",
    "    ({ \"x\": 0}, lambda t: 0, \"u\"),\n",
    "    ({ \"x\": L}, lambda t: 0, \"u\"),\n",
    "    ({ \"t\": 0}, lambda x: 6*torch.sin((torch.pi*x)/L), \"u\")\n",
    "])\n",
    "\n",
    "# Configuramos la Kan\n",
    "comparator.configure_kan_settings(grid=10, kan_width=[2,10,1])\n",
    "comparator.configure_train_settings(\"kan\", steps=100)\n",
    "\n",
    "# Configuramos el Mlp\n",
    "comparator.configure_mlp_settings(input_dim=2, output_dim=1, num_hidden_layers=3, hidden_dim=100)\n",
    "comparator.configure_train_settings(\"mlp\", steps=100)\n",
    "\n",
    "# Definimos la solución real\n",
    "comparator.set_real_solution({\n",
    "    \"u\": lambda x,t: 6 * np.sin((np.pi * x) / L) * np.exp(-k * (np.pi / L)**2 * t)\n",
    "})"
   ]
  },
  {
   "cell_type": "code",
   "execution_count": 123,
   "metadata": {},
   "outputs": [
    {
     "name": "stderr",
     "output_type": "stream",
     "text": [
      "description: 100%|████████████████████████████████████████████████| 100/100 [06:45<00:00,  4.06s/it]\n",
      "description: 100%|████████████████████████████████████████████████| 100/100 [00:37<00:00,  2.64it/s]\n"
     ]
    },
    {
     "name": "stdout",
     "output_type": "stream",
     "text": [
      "Image save as comparation/graphs/2D_new/u/kan.pdf\n",
      "Image save as comparation/graphs/2D_new/u/mlp.pdf\n",
      "Image save as comparation/graphs/2D_new/u/real.pdf\n",
      "Image save as comparation/graphs/2D_new/u/comparation.pdf\n"
     ]
    },
    {
     "data": {
      "text/plain": [
       "<Figure size 640x480 with 0 Axes>"
      ]
     },
     "metadata": {},
     "output_type": "display_data"
    },
    {
     "data": {
      "text/plain": [
       "<Figure size 640x480 with 0 Axes>"
      ]
     },
     "metadata": {},
     "output_type": "display_data"
    },
    {
     "data": {
      "text/plain": [
       "<Figure size 640x480 with 0 Axes>"
      ]
     },
     "metadata": {},
     "output_type": "display_data"
    },
    {
     "data": {
      "text/plain": [
       "<Figure size 1500x800 with 0 Axes>"
      ]
     },
     "metadata": {},
     "output_type": "display_data"
    }
   ],
   "source": [
    "# Ejecutamos la comparación\n",
    "comparator.compare(\"comparation\")"
   ]
  },
  {
   "cell_type": "code",
   "execution_count": 124,
   "metadata": {},
   "outputs": [
    {
     "name": "stdout",
     "output_type": "stream",
     "text": [
      "Total difference between kan model and real solution is 0.0000003076 for function u.\n",
      "Total difference between mlp model and real solution is 0.0000007867 for function u.\n"
     ]
    }
   ],
   "source": [
    "comparator.get_results()"
   ]
  },
  {
   "cell_type": "code",
   "execution_count": 125,
   "metadata": {},
   "outputs": [],
   "source": [
    "from kan import *\n",
    "device = torch.device('cuda' if torch.cuda.is_available() else 'cpu')"
   ]
  },
  {
   "cell_type": "code",
   "execution_count": 182,
   "metadata": {},
   "outputs": [],
   "source": [
    "def create_dataset(train_num=200, test_num=100):\n",
    "\n",
    "    def generate_sol(num):\n",
    "        x = torch.linspace(0, L, num)\n",
    "        t = torch.linspace(0, 1, num)\n",
    "\n",
    "        pred = comparator.get_funct_pred([x,t])[0]\n",
    "        pred = torch.from_numpy(pred).float().reshape(-1, 1)\n",
    "\n",
    "        x, t = torch.meshgrid(x, t, indexing='ij')\n",
    "        X = torch.stack([x.reshape(-1), t.reshape(-1)], dim=1) \n",
    "\n",
    "        return X,pred\n",
    "\n",
    "    x_train, y_train = generate_sol(train_num)\n",
    "    x_test, y_test = generate_sol(test_num)\n",
    "\n",
    "    dataset = {}\n",
    "    dataset['train_input'] = x_train.to(device)\n",
    "    dataset['test_input'] = x_test.to(device)\n",
    "    dataset['train_label'] = y_train.to(device)\n",
    "    dataset['test_label'] = y_test.to(device)\n",
    "    return dataset\n",
    "\n",
    "dataset = create_dataset()"
   ]
  },
  {
   "cell_type": "code",
   "execution_count": 196,
   "metadata": {},
   "outputs": [
    {
     "name": "stdout",
     "output_type": "stream",
     "text": [
      "checkpoint directory created: ./model\n",
      "saving model version 0.0\n"
     ]
    },
    {
     "name": "stderr",
     "output_type": "stream",
     "text": [
      "| train_loss: 7.08e-02 | test_loss: 7.32e-02 | reg: 9.96e+00 | : 100%|█| 50/50 [00:31<00:00,  1.58it"
     ]
    },
    {
     "name": "stdout",
     "output_type": "stream",
     "text": [
      "saving model version 0.1\n"
     ]
    },
    {
     "name": "stderr",
     "output_type": "stream",
     "text": [
      "\n"
     ]
    }
   ],
   "source": [
    "# Entrenamos la red con regularización\n",
    "model = KAN(width=[2,5,5,1], grid=3, k=3, seed=1222, device=device);\n",
    "model.fit(dataset, opt=\"LBFGS\", steps=50, lamb=0.01);"
   ]
  },
  {
   "cell_type": "code",
   "execution_count": 198,
   "metadata": {},
   "outputs": [
    {
     "data": {
      "image/png": "[encoded data removed]",
      "text/plain": [
       "<Figure size 500x600 with 52 Axes>"
      ]
     },
     "metadata": {},
     "output_type": "display_data"
    }
   ],
   "source": [
    "model.plot()"
   ]
  },
  {
   "cell_type": "code",
   "execution_count": 199,
   "metadata": {},
   "outputs": [
    {
     "name": "stdout",
     "output_type": "stream",
     "text": [
      "saving model version 0.2\n"
     ]
    }
   ],
   "source": [
    "pruned_model = model.prune(node_th=1e-1, edge_th=1e-1)"
   ]
  },
  {
   "cell_type": "code",
   "execution_count": 200,
   "metadata": {},
   "outputs": [
    {
     "data": {
      "image/png": "[encoded data removed]",
      "text/plain": [
       "<Figure size 500x600 with 8 Axes>"
      ]
     },
     "metadata": {},
     "output_type": "display_data"
    }
   ],
   "source": [
    "pruned_model.plot()"
   ]
  },
  {
   "cell_type": "code",
   "execution_count": 201,
   "metadata": {},
   "outputs": [
    {
     "name": "stderr",
     "output_type": "stream",
     "text": [
      "| train_loss: 4.38e-02 | test_loss: 4.60e-02 | reg: 1.24e+01 | : 100%|█| 50/50 [00:11<00:00,  4.41it"
     ]
    },
    {
     "name": "stdout",
     "output_type": "stream",
     "text": [
      "saving model version 0.3\n"
     ]
    },
    {
     "name": "stderr",
     "output_type": "stream",
     "text": [
      "\n"
     ]
    }
   ],
   "source": [
    "pruned_model.fit(dataset, opt=\"LBFGS\", steps=50);"
   ]
  },
  {
   "cell_type": "code",
   "execution_count": 203,
   "metadata": {},
   "outputs": [
    {
     "data": {
      "image/png": "[encoded data removed]",
      "text/plain": [
       "<Figure size 500x600 with 8 Axes>"
      ]
     },
     "metadata": {},
     "output_type": "display_data"
    }
   ],
   "source": [
    "pruned_model.plot()"
   ]
  },
  {
   "cell_type": "code",
   "execution_count": 204,
   "metadata": {},
   "outputs": [
    {
     "name": "stdout",
     "output_type": "stream",
     "text": [
      "  function    fitting r2   r2 loss  complexity  complexity loss  total loss\n",
      "0        0  0.000000e+00  0.000014           0                0    0.000003\n",
      "1      x^2  9.619832e-01 -4.716840           2                2    0.656632\n",
      "2      cos  9.615228e-01 -4.699476           2                2    0.660105\n",
      "3      sin  9.530565e-01 -4.412624           2                2    0.717475\n",
      "4        x  9.106981e-09  0.000014           1                1    0.800003\n",
      "  function  fitting r2    r2 loss  complexity  complexity loss  total loss\n",
      "0        x    0.999660 -11.481157           1                1   -1.496231\n",
      "1      cos    0.999988 -15.453985           2                2   -1.490797\n",
      "2      sin    0.999988 -15.453985           2                2   -1.490797\n",
      "3      x^2    0.999900 -13.148429           2                2   -1.029686\n",
      "4      exp    0.999897 -13.109149           2                2   -1.021830\n",
      "   function  fitting r2    r2 loss  complexity  complexity loss  total loss\n",
      "0     1/x^2    0.997512  -8.645001           2                2   -0.129000\n",
      "1         0    0.000000   0.000014           0                0    0.000003\n",
      "2  gaussian    0.999754 -11.933651           3                3    0.013270\n",
      "3       1/x    0.994171  -7.420039           2                2    0.115992\n",
      "4      tanh    0.999393 -10.661295           3                3    0.267741\n",
      "   function  fitting r2    r2 loss  complexity  complexity loss  total loss\n",
      "0     1/x^2    0.997512  -8.645001           2                2   -0.129000\n",
      "1         0    0.000000   0.000014           0                0    0.000003\n",
      "2  gaussian    0.999754 -11.933651           3                3    0.013270\n",
      "3       1/x    0.994171  -7.420039           2                2    0.115992\n",
      "4      tanh    0.999393 -10.661295           3                3    0.267741\n"
     ]
    }
   ],
   "source": [
    "pruned_model.suggest_symbolic(0,0,0);\n",
    "pruned_model.suggest_symbolic(0,1,0);\n",
    "pruned_model.suggest_symbolic(2,0,0);\n",
    "pruned_model.suggest_symbolic(2,0,0);"
   ]
  },
  {
   "attachments": {},
   "cell_type": "markdown",
   "metadata": {},
   "source": [
    "No sé como ajustar el modelo. Hay demasiados opciones y creo que ninguna buena..."
   ]
  },
  {
   "attachments": {},
   "cell_type": "markdown",
   "metadata": {},
   "source": [
    "$u(x,t) = e^{ln(sin(x))+t}$"
   ]
  }
 ],
 "metadata": {
  "kernelspec": {
   "display_name": "pykan-env",
   "language": "python",
   "name": "python3"
  },
  "language_info": {
   "codemirror_mode": {
    "name": "ipython",
    "version": 3
   },
   "file_extension": ".py",
   "mimetype": "text/x-python",
   "name": "python",
   "nbconvert_exporter": "python",
   "pygments_lexer": "ipython3",
   "version": "3.9.7"
  },
  "orig_nbformat": 4
 },
 "nbformat": 4,
 "nbformat_minor": 2
}
