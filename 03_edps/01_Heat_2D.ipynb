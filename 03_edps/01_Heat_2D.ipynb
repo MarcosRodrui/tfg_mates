{
 "cells": [
  {
   "attachments": {},
   "cell_type": "markdown",
   "metadata": {},
   "source": [
    "# 01. Heat Equation"
   ]
  },
  {
   "attachments": {},
   "cell_type": "markdown",
   "metadata": {},
   "source": [
    "Este ejemplo prueba la librería de resolución de EDPs con la ecuación del calor\n",
    "$$\n",
    "\\left\\{\n",
    "\\begin{array}{l}\n",
    "\\displaystyle \\frac{\\partial u}{\\partial t} = k \\partial \\frac{\\partial^2 u}{\\partial x^2} \\\\\n",
    "u(x,0)=f(x) \\quad u(0,t)=0 \\quad u(L,t) = 0\n",
    "\\end{array}\n",
    "\\right.\n",
    "$$\n",
    "donde tomaremos $f(x)= 6 \\sin \\left(\\frac{\\pi x}{L} \\right)$, $L=2$, $k=1$. Además tomaremos $x \\in [0,L], t \\in [0,1]$.\n",
    "\n",
    "La solución de la EPD es\n",
    "$$\n",
    "u(x,t)=6 \\sin \\left(\\frac{\\pi x}{L} \\right) e^{-k \\left(\\frac{\\pi}{L}\\right)^2 t}\n",
    "$$"
   ]
  },
  {
   "cell_type": "code",
   "execution_count": 7,
   "metadata": {},
   "outputs": [],
   "source": [
    "# Iniciamos la clase comparador de MLP vs KAN\n",
    "from edp_lib.edp_comparator import EDPComparator\n",
    "import torch\n",
    "import numpy as np"
   ]
  },
  {
   "cell_type": "code",
   "execution_count": 8,
   "metadata": {},
   "outputs": [],
   "source": [
    "# Describimos la EDP usando la liberría\n",
    "L=2\n",
    "k=1\n",
    "\n",
    "comparator = EDPComparator(\"2D\") # Bajo este nombre se guardan los resultados\n",
    "comparator.configure_variables({ # Configuramos el rango de las variables en el entrenamiento\n",
    "    \"x\": (0, L),\n",
    "    \"t\": (0, 1)\n",
    "})\n",
    "comparator.configure_outputs([\"u\"]) # Nombramos las funciones que debe aprender el modelo\n",
    "comparator.configure_pde([lambda u_t, u_xx : u_t - k*u_xx]) # Definimos la edp\n",
    "comparator.configure_boundaries([ # Definimos las condiciones de frontera\n",
    "    ({ \"x\": 0}, lambda t: 0, \"u\"),\n",
    "    ({ \"x\": L}, lambda t: 0, \"u\"),\n",
    "    ({ \"t\": 0}, lambda x: 6*torch.sin((torch.pi*x)/L), \"u\")\n",
    "])\n",
    "\n",
    "# Configuramos la Kan\n",
    "comparator.configure_kan_settings(grid=10, kan_width=[2,10,1])\n",
    "comparator.configure_train_settings(\"kan\", steps=100)\n",
    "\n",
    "# Configuramos el Mlp\n",
    "comparator.configure_mlp_settings(input_dim=2, output_dim=1, num_hidden_layers=3, hidden_dim=100)\n",
    "comparator.configure_train_settings(\"mlp\", steps=100)\n",
    "\n",
    "# Definimos la solución real\n",
    "comparator.set_real_solution({\n",
    "    \"u\": lambda x,t: 6 * np.sin((np.pi * x) / L) * np.exp(-k * (np.pi / L)**2 * t)\n",
    "})"
   ]
  },
  {
   "cell_type": "code",
   "execution_count": 9,
   "metadata": {},
   "outputs": [
    {
     "name": "stderr",
     "output_type": "stream",
     "text": [
      "description: 100%|████████████████████████████████████████████████| 100/100 [07:39<00:00,  4.60s/it]\n",
      "description: 100%|████████████████████████████████████████████████| 100/100 [00:42<00:00,  2.35it/s]\n"
     ]
    },
    {
     "name": "stdout",
     "output_type": "stream",
     "text": [
      "Image save as comparation/graphs/2D/u/kan.pdf\n",
      "Image save as comparation/graphs/2D/u/mlp.pdf\n",
      "Image save as comparation/graphs/2D/u/real.pdf\n",
      "Image save as comparation/graphs/2D/u/comparation.pdf\n"
     ]
    },
    {
     "data": {
      "text/plain": [
       "<Figure size 640x480 with 0 Axes>"
      ]
     },
     "metadata": {},
     "output_type": "display_data"
    },
    {
     "data": {
      "text/plain": [
       "<Figure size 640x480 with 0 Axes>"
      ]
     },
     "metadata": {},
     "output_type": "display_data"
    },
    {
     "data": {
      "text/plain": [
       "<Figure size 640x480 with 0 Axes>"
      ]
     },
     "metadata": {},
     "output_type": "display_data"
    },
    {
     "data": {
      "text/plain": [
       "<Figure size 1500x800 with 0 Axes>"
      ]
     },
     "metadata": {},
     "output_type": "display_data"
    }
   ],
   "source": [
    "# Ejecutamos la comparación\n",
    "comparator.compare(\"comparation\")"
   ]
  },
  {
   "cell_type": "code",
   "execution_count": 10,
   "metadata": {},
   "outputs": [
    {
     "name": "stdout",
     "output_type": "stream",
     "text": [
      "Total difference between kan model and real solution is 0.0000003632 for function u.\n",
      "Total difference between mlp model and real solution is 0.0000007867 for function u.\n"
     ]
    }
   ],
   "source": [
    "# Obtenemos la diferencia numérica\n",
    "comparator.get_results()"
   ]
  }
 ],
 "metadata": {
  "kernelspec": {
   "display_name": "pykan-env",
   "language": "python",
   "name": "python3"
  },
  "language_info": {
   "codemirror_mode": {
    "name": "ipython",
    "version": 3
   },
   "file_extension": ".py",
   "mimetype": "text/x-python",
   "name": "python",
   "nbconvert_exporter": "python",
   "pygments_lexer": "ipython3",
   "version": "3.9.7"
  },
  "orig_nbformat": 4
 },
 "nbformat": 4,
 "nbformat_minor": 2
}
