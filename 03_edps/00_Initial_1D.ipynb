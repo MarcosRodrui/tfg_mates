{
 "cells": [
  {
   "attachments": {},
   "cell_type": "markdown",
   "metadata": {},
   "source": [
    "# 00. Initial Example"
   ]
  },
  {
   "attachments": {},
   "cell_type": "markdown",
   "metadata": {},
   "source": [
    "Ejemplo de uso de la librería de resolución de EDPs. Se prueba la librería sobre una EDO sencilla\n",
    "$$\n",
    "\\left\\{\n",
    "\\begin{array}{l}\n",
    "\\displaystyle \\frac{dy}{dx} - 2x = 0 \\\\\n",
    "y(0) = 0\n",
    "\\end{array}\n",
    "\\right.\n",
    "$$\n",
    "donde se toma $x \\in [-2,2]$. Donde la solución a la EDO es $y(x)=x^2$."
   ]
  },
  {
   "cell_type": "code",
   "execution_count": 1,
   "metadata": {},
   "outputs": [],
   "source": [
    "# Iniciamos la clase comparador de MLP vs KAN\n",
    "from edp_lib.edp_comparator import EDPComparator\n",
    "import torch\n",
    "import numpy as np"
   ]
  },
  {
   "cell_type": "code",
   "execution_count": 6,
   "metadata": {},
   "outputs": [],
   "source": [
    "# Describimos la EDP usando la liberría\n",
    "comparator = EDPComparator(\"easy_1D\") # Nombre bajo el cual se guardarán los resultados\n",
    "comparator.configure_variables({\n",
    "    \"x\": (-2, 2),\n",
    "})\n",
    "comparator.configure_outputs([\"y\"])\n",
    "comparator.configure_pde([lambda y_x, x : y_x - 2*x])\n",
    "comparator.configure_boundaries([\n",
    "    ({ \"x\": 0}, lambda : 0, \"y\"),\n",
    "])\n",
    "\n",
    "# Configuramos la Kan\n",
    "comparator.configure_kan_settings(kan_width=[1,10,1])\n",
    "comparator.configure_train_settings(\"kan\", steps=100)\n",
    "\n",
    "# Configuramos el Mlp\n",
    "comparator.configure_mlp_settings(input_dim=1, output_dim=1, num_hidden_layers=3, hidden_dim=100)\n",
    "comparator.configure_train_settings(\"mlp\", steps=100)\n",
    "\n",
    "# Definimos la solución real\n",
    "comparator.set_real_solution({\n",
    "    \"y\": lambda x: x**2\n",
    "})"
   ]
  },
  {
   "cell_type": "code",
   "execution_count": 7,
   "metadata": {},
   "outputs": [
    {
     "name": "stderr",
     "output_type": "stream",
     "text": [
      "description: 100%|████████████████████████████████████████████████| 100/100 [02:09<00:00,  1.29s/it]\n",
      "description: 100%|████████████████████████████████████████████████| 100/100 [00:04<00:00, 23.07it/s]\n"
     ]
    },
    {
     "name": "stdout",
     "output_type": "stream",
     "text": [
      "Image save as comparation/graphs/easy_1D/y/kan.png\n",
      "Image save as comparation/graphs/easy_1D/y/mlp.png\n",
      "Image save as comparation/graphs/easy_1D/y/real.png\n",
      "Image save as comparation/graphs/easy_1D/y/comparation.png\n"
     ]
    },
    {
     "data": {
      "text/plain": [
       "<Figure size 640x480 with 0 Axes>"
      ]
     },
     "metadata": {},
     "output_type": "display_data"
    },
    {
     "data": {
      "text/plain": [
       "<Figure size 640x480 with 0 Axes>"
      ]
     },
     "metadata": {},
     "output_type": "display_data"
    },
    {
     "data": {
      "text/plain": [
       "<Figure size 640x480 with 0 Axes>"
      ]
     },
     "metadata": {},
     "output_type": "display_data"
    },
    {
     "data": {
      "text/plain": [
       "<Figure size 1500x800 with 0 Axes>"
      ]
     },
     "metadata": {},
     "output_type": "display_data"
    }
   ],
   "source": [
    "# Ejecutamos la comparación\n",
    "comparator.compare(\"comparation\")"
   ]
  },
  {
   "cell_type": "code",
   "execution_count": 8,
   "metadata": {},
   "outputs": [
    {
     "name": "stdout",
     "output_type": "stream",
     "text": [
      "Total difference between kan model and real solution is 0.0000001466 for function y.\n",
      "Total difference between mlp model and real solution is 0.0000000264 for function y.\n"
     ]
    }
   ],
   "source": [
    "# Obtenemos diferencia numérica\n",
    "comparator.get_results()"
   ]
  },
  {
   "attachments": {},
   "cell_type": "markdown",
   "metadata": {},
   "source": [
    "En este experimento el MLP obtiene una predicción ligeramente más precisa."
   ]
  }
 ],
 "metadata": {
  "kernelspec": {
   "display_name": "pykan-env",
   "language": "python",
   "name": "python3"
  },
  "language_info": {
   "codemirror_mode": {
    "name": "ipython",
    "version": 3
   },
   "file_extension": ".py",
   "mimetype": "text/x-python",
   "name": "python",
   "nbconvert_exporter": "python",
   "pygments_lexer": "ipython3",
   "version": "3.9.7"
  },
  "orig_nbformat": 4
 },
 "nbformat": 4,
 "nbformat_minor": 2
}
