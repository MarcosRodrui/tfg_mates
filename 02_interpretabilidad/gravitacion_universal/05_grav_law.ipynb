{
 "cells": [
  {
   "attachments": {},
   "cell_type": "markdown",
   "metadata": {},
   "source": [
    "# 5. Ley de gravitación universal con más entradas y ruido"
   ]
  },
  {
   "attachments": {},
   "cell_type": "markdown",
   "metadata": {},
   "source": [
    "En este cuadernillo repetiremos el experimento de **00_grav_law**, pero añadiendo más entradas a la red neuronal. Las entradas que añadimos no están relacionadas con la variable original y el objetivo es ver cómo se comporta el modelo.\n",
    "\n",
    "Este cuardenillo va a estudiar como se comporta la red si añadimos ruido como en el experimento **01_grav_law** y añadimos entradas que no tienen relación con la función objetivo como en el cuadernillo **02_grav_law**."
   ]
  },
  {
   "attachments": {},
   "cell_type": "markdown",
   "metadata": {},
   "source": [
    "A continuación, definimos las funciones para crear los conjuntos de datos."
   ]
  },
  {
   "cell_type": "code",
   "execution_count": 1,
   "metadata": {},
   "outputs": [],
   "source": [
    "from kan import *\n",
    "\n",
    "device = torch.device('cuda' if torch.cuda.is_available() else 'cpu')"
   ]
  },
  {
   "cell_type": "code",
   "execution_count": 2,
   "metadata": {},
   "outputs": [],
   "source": [
    "# Genera una muestra de n observaciones de la variable aleatoria X\n",
    "def dataset_point(n, r_min=1.295, r_max=5.0):\n",
    "    u = torch.rand(n)\n",
    "    r_cubed = u * (r_max**3 - r_min**3) + r_min**3\n",
    "    r = r_cubed**(1/3)\n",
    "\n",
    "    u_theta = torch.rand(n)\n",
    "    u_phi = torch.rand(n)\n",
    "    theta = torch.acos(1 - 2 * u_theta)\n",
    "    phi = 2 * torch.pi * u_phi\n",
    "\n",
    "    x = r * torch.sin(theta) * torch.cos(phi)\n",
    "    y = r * torch.sin(theta) * torch.sin(phi)\n",
    "    z = r * torch.cos(theta)\n",
    "\n",
    "    return torch.stack((x, y, z), dim=1)\n",
    "\n",
    "# Genera una muestra de n observaciones de la variable aleatoria D\n",
    "def dataset_distance(n, r_min=1.3, r_max=5.0):\n",
    "    points = dataset_point(2*n, r_min, r_max)\n",
    "    p1 = points[:n]\n",
    "    p2 = points[n:]\n",
    "    return torch.norm(p1 - p2, dim=1)\n",
    "\n",
    "# Genera una muestra de n observaciones de la variable aleatoria M\n",
    "def dataset_mass(n, m_min=0.5, m_max=5.0, alpha=2.3):\n",
    "    inv = 1.0 - alpha\n",
    "    lower = m_min**inv\n",
    "    upper = m_max**inv\n",
    "\n",
    "    u = torch.rand(n)\n",
    "    m = (lower + u*(upper - lower))**(1.0/inv)\n",
    "    return m"
   ]
  },
  {
   "attachments": {},
   "cell_type": "markdown",
   "metadata": {},
   "source": [
    "La siguiente función genera el conjunto de datos con dos variables $x_1$ y $x_2$ que no están relacionadas con la función $F$."
   ]
  },
  {
   "cell_type": "code",
   "execution_count": null,
   "metadata": {},
   "outputs": [],
   "source": [
    "def create_dataset_extra_input(train_num=10000, test_num=5000, error=0):\n",
    "\n",
    "    # Esta función genera un conjunto de datos (x,y) con una cantidad de datos menor a num (porque algunos se filtran)\n",
    "    def generate_grav(num):\n",
    "        # Generamos las distancias y filtramos\n",
    "        d = dataset_distance(num, 1.295, 5)\n",
    "        d = d[d > 1]\n",
    "\n",
    "        # Generamos las masas una vez hemos filtrado\n",
    "        new_num = len(d)\n",
    "        m1 = dataset_mass(new_num)\n",
    "        m2 = dataset_mass(new_num)\n",
    "\n",
    "        # Calculamos el valor de F\n",
    "        G = 2.773\n",
    "        F = G*(m1*m2)/(d**2) + error * torch.randn(new_num)\n",
    "\n",
    "        # Añadimos variables irrelaventes\n",
    "        x1 = 1 + 4*torch.distributions.Beta(2.0, 5.0).sample((new_num, )) # Toma valores entre [1,5]\n",
    "        x2 = 1 + 4*torch.distributions.Beta(5.0, 2.0).sample((new_num, )) # Toma valores entre [1,5]\n",
    "\n",
    "        x = torch.stack([m1, m2, d, x1, x2], dim=1)\n",
    "        y = F.unsqueeze(dim=1)\n",
    "\n",
    "        # Filtramos las valores de F muy pequeños\n",
    "        mask = y.squeeze() > 0.1\n",
    "        x = x[mask]\n",
    "        y = y[mask]\n",
    "\n",
    "        return x,y\n",
    "\n",
    "    x_train, y_train = generate_grav(train_num)\n",
    "    x_test, y_test = generate_grav(test_num)\n",
    "\n",
    "    dataset = {}\n",
    "    dataset['train_input'] = x_train.to(device)\n",
    "    dataset['test_input'] = x_test.to(device)\n",
    "    dataset['train_label'] = y_train.to(device)\n",
    "    dataset['test_label'] = y_test.to(device)\n",
    "    return dataset"
   ]
  },
  {
   "attachments": {},
   "cell_type": "markdown",
   "metadata": {},
   "source": [
    "## $\\sigma = 0.001$"
   ]
  },
  {
   "cell_type": "code",
   "execution_count": 41,
   "metadata": {},
   "outputs": [
    {
     "name": "stdout",
     "output_type": "stream",
     "text": [
      "checkpoint directory created: ./model\n",
      "saving model version 0.0\n"
     ]
    }
   ],
   "source": [
    "# Iniciamos la KAN\n",
    "model = KAN(width=[5,5,1], grid=3, k=3, seed=2023, device=device);\n",
    "\n",
    "dataset = create_dataset_extra_input(error=0.001)"
   ]
  },
  {
   "cell_type": "code",
   "execution_count": 42,
   "metadata": {},
   "outputs": [
    {
     "name": "stderr",
     "output_type": "stream",
     "text": [
      "| train_loss: 3.47e-01 | test_loss: 2.48e-01 | reg: 5.33e+00 | : 100%|█| 50/50 [00:13<00:00,  3.57it"
     ]
    },
    {
     "name": "stdout",
     "output_type": "stream",
     "text": [
      "saving model version 0.1\n"
     ]
    },
    {
     "name": "stderr",
     "output_type": "stream",
     "text": [
      "\n"
     ]
    }
   ],
   "source": [
    "# Entrenamos la red con regularización\n",
    "model.fit(dataset, opt=\"LBFGS\", steps=50, lamb=0.03);"
   ]
  },
  {
   "attachments": {},
   "cell_type": "markdown",
   "metadata": {},
   "source": [
    "Esta gráfica muestra como el modelo ha sido capaz de darse cuenta que las dos últimas entradas no están relacionadas con la función que tratamos de aprender."
   ]
  },
  {
   "cell_type": "code",
   "execution_count": 43,
   "metadata": {},
   "outputs": [
    {
     "data": {
      "image/png": "[encoded data removed]",
      "text/plain": [
       "<Figure size 500x400 with 37 Axes>"
      ]
     },
     "metadata": {},
     "output_type": "display_data"
    }
   ],
   "source": [
    "# Visualizamos la red\n",
    "model.plot()"
   ]
  },
  {
   "cell_type": "code",
   "execution_count": 44,
   "metadata": {},
   "outputs": [
    {
     "name": "stdout",
     "output_type": "stream",
     "text": [
      "saving model version 0.2\n"
     ]
    }
   ],
   "source": [
    "# Podamos la red\n",
    "pruned_model = model.prune(node_th=1e-1, edge_th=1e-1)"
   ]
  },
  {
   "attachments": {},
   "cell_type": "markdown",
   "metadata": {},
   "source": [
    "Una vez hemos realizado la poda, esas entradas ya no se muestran."
   ]
  },
  {
   "cell_type": "code",
   "execution_count": 45,
   "metadata": {},
   "outputs": [
    {
     "data": {
      "image/png": "[encoded data removed]",
      "text/plain": [
       "<Figure size 500x400 with 9 Axes>"
      ]
     },
     "metadata": {},
     "output_type": "display_data"
    }
   ],
   "source": [
    "# Mostramos el modelo podado\n",
    "pruned_model.plot()"
   ]
  },
  {
   "cell_type": "code",
   "execution_count": 46,
   "metadata": {},
   "outputs": [
    {
     "name": "stderr",
     "output_type": "stream",
     "text": [
      "| train_loss: 1.24e-02 | test_loss: 1.65e-02 | reg: 1.19e+01 | : 100%|█| 100/100 [00:19<00:00,  5.02"
     ]
    },
    {
     "name": "stdout",
     "output_type": "stream",
     "text": [
      "saving model version 0.3\n"
     ]
    },
    {
     "name": "stderr",
     "output_type": "stream",
     "text": [
      "\n"
     ]
    }
   ],
   "source": [
    "# Volvemos a entrenar el modelo tras la poda\n",
    "pruned_model.fit(dataset, opt=\"LBFGS\", steps=100);"
   ]
  },
  {
   "cell_type": "code",
   "execution_count": 47,
   "metadata": {},
   "outputs": [
    {
     "data": {
      "image/png": "[encoded data removed]",
      "text/plain": [
       "<Figure size 500x400 with 9 Axes>"
      ]
     },
     "metadata": {},
     "output_type": "display_data"
    }
   ],
   "source": [
    "pruned_model.plot()"
   ]
  },
  {
   "cell_type": "code",
   "execution_count": 48,
   "metadata": {},
   "outputs": [
    {
     "name": "stdout",
     "output_type": "stream",
     "text": [
      "    function  fitting r2    r2 loss  complexity  complexity loss  total loss\n",
      "0        log    0.999683 -11.577995           2                2   -0.715599\n",
      "1    1/x^0.5    0.999503 -10.946792           2                2   -0.589358\n",
      "2  1/sqrt(x)    0.999503 -10.946792           2                2   -0.589358\n",
      "3        1/x    0.999162 -10.203781           2                2   -0.440756\n",
      "4      1/x^2    0.998664  -9.536746           2                2   -0.307349\n",
      "    function  fitting r2    r2 loss  complexity  complexity loss  total loss\n",
      "0        log    0.999673 -11.533217           2                2   -0.706643\n",
      "1    1/x^0.5    0.999468 -10.849654           2                2   -0.569931\n",
      "2  1/sqrt(x)    0.999468 -10.849654           2                2   -0.569931\n",
      "3        1/x    0.999108 -10.114325           2                2   -0.422865\n",
      "4      1/x^2    0.998587  -9.456740           2                2   -0.291348\n",
      "    function  fitting r2    r2 loss  complexity  complexity loss  total loss\n",
      "0        log    0.999810 -12.284994           2                2   -0.856999\n",
      "1    1/x^0.5    0.999518 -10.990211           2                2   -0.598042\n",
      "2  1/sqrt(x)    0.999518 -10.990211           2                2   -0.598042\n",
      "3        1/x    0.999193 -10.257925           2                2   -0.451585\n",
      "4      1/x^2    0.998764  -9.648179           2                2   -0.329636\n",
      "  function  fitting r2    r2 loss  complexity  complexity loss  total loss\n",
      "0      exp    0.999889 -13.009348           2                2   -1.001870\n",
      "1        0    0.000000   0.000014           0                0    0.000003\n",
      "2    1/x^2    0.974001  -5.264871           2                2    0.547026\n",
      "3        x    0.499671  -0.999023           1                1    0.600195\n",
      "4      1/x    0.945575  -4.199315           2                2    0.760137\n"
     ]
    }
   ],
   "source": [
    "# Vamos a ver si podemos ajustar funciones simbólicas\n",
    "pruned_model.suggest_symbolic(0,0,0);\n",
    "pruned_model.suggest_symbolic(0,1,0);\n",
    "pruned_model.suggest_symbolic(0,2,0);\n",
    "pruned_model.suggest_symbolic(1,0,0);"
   ]
  },
  {
   "attachments": {},
   "cell_type": "markdown",
   "metadata": {},
   "source": [
    "Podemos utilizar un razonamiento similar al del otro cuardernillo para elegir $\\log$ en la primera capa y $\\exp$ en la segunda."
   ]
  },
  {
   "cell_type": "code",
   "execution_count": 49,
   "metadata": {},
   "outputs": [
    {
     "name": "stdout",
     "output_type": "stream",
     "text": [
      "Best value at boundary.\n",
      "r2 is 0.9996829032897949\n",
      "saving model version 0.4\n",
      "Best value at boundary.\n",
      "r2 is 0.9996725916862488\n",
      "saving model version 0.5\n",
      "r2 is 0.9998096227645874\n",
      "saving model version 0.6\n",
      "r2 is 0.9998887181282043\n",
      "saving model version 0.7\n"
     ]
    }
   ],
   "source": [
    "# Fijamos las funciones de activación a las funciones simbólicas siguientes\n",
    "pruned_model.fix_symbolic(0,0,0, 'log');\n",
    "pruned_model.fix_symbolic(0,1,0, 'log');\n",
    "pruned_model.fix_symbolic(0,2,0, 'log');\n",
    "pruned_model.fix_symbolic(1,0,0, 'exp');"
   ]
  },
  {
   "attachments": {},
   "cell_type": "markdown",
   "metadata": {},
   "source": [
    "Volvemso a entrenar el modelo y vemos el resultado."
   ]
  },
  {
   "cell_type": "code",
   "execution_count": 50,
   "metadata": {},
   "outputs": [
    {
     "name": "stderr",
     "output_type": "stream",
     "text": [
      "| train_loss: 9.87e-04 | test_loss: 1.00e-03 | reg: 0.00e+00 | : 100%|█| 100/100 [00:08<00:00, 11.74"
     ]
    },
    {
     "name": "stdout",
     "output_type": "stream",
     "text": [
      "saving model version 0.8\n"
     ]
    },
    {
     "name": "stderr",
     "output_type": "stream",
     "text": [
      "\n"
     ]
    }
   ],
   "source": [
    "# Volvemos a entrenar el modelo\n",
    "pruned_model.fit(dataset, opt=\"LBFGS\", steps=100);"
   ]
  },
  {
   "cell_type": "code",
   "execution_count": 51,
   "metadata": {},
   "outputs": [
    {
     "data": {
      "image/png": "[encoded data removed]",
      "text/plain": [
       "<Figure size 500x400 with 9 Axes>"
      ]
     },
     "metadata": {},
     "output_type": "display_data"
    }
   ],
   "source": [
    "pruned_model.plot()"
   ]
  },
  {
   "attachments": {},
   "cell_type": "markdown",
   "metadata": {},
   "source": [
    "Como podemos ver, obtenemos una aproximación muy buena donde las dos variables que hemos introducido de forma artificial no aparecen."
   ]
  },
  {
   "cell_type": "code",
   "execution_count": 52,
   "metadata": {},
   "outputs": [
    {
     "data": {
      "text/latex": [
       "$\\displaystyle \\frac{2.7727 x_{1}^{1.0} \\left(x_{2} - 0.0001\\right)^{0.9999}}{\\left(x_{3} - 0.0001\\right)^{1.9998}}$"
      ],
      "text/plain": [
       "2.7727*x_1**1.0*(x_2 - 0.0001)**0.9999/(x_3 - 0.0001)**1.9998"
      ]
     },
     "execution_count": 52,
     "metadata": {},
     "output_type": "execute_result"
    }
   ],
   "source": [
    "formula = pruned_model.symbolic_formula()[0][0]\n",
    "ex_round(formula, 4)"
   ]
  },
  {
   "attachments": {},
   "cell_type": "markdown",
   "metadata": {},
   "source": [
    "## $\\sigma = 0.01$"
   ]
  },
  {
   "cell_type": "code",
   "execution_count": 53,
   "metadata": {},
   "outputs": [
    {
     "name": "stdout",
     "output_type": "stream",
     "text": [
      "checkpoint directory created: ./model\n",
      "saving model version 0.0\n"
     ]
    }
   ],
   "source": [
    "# Iniciamos la KAN\n",
    "model = KAN(width=[5,5,1], grid=3, k=3, seed=2025, device=device);\n",
    "\n",
    "dataset = create_dataset_extra_input(error=0.01)"
   ]
  },
  {
   "cell_type": "code",
   "execution_count": 54,
   "metadata": {},
   "outputs": [
    {
     "name": "stderr",
     "output_type": "stream",
     "text": [
      "| train_loss: 3.50e-01 | test_loss: 3.05e-01 | reg: 6.37e+00 | : 100%|█| 50/50 [00:13<00:00,  3.69it"
     ]
    },
    {
     "name": "stdout",
     "output_type": "stream",
     "text": [
      "saving model version 0.1\n"
     ]
    },
    {
     "name": "stderr",
     "output_type": "stream",
     "text": [
      "\n"
     ]
    }
   ],
   "source": [
    "# Entrenamos la red con regularización\n",
    "model.fit(dataset, opt=\"LBFGS\", steps=50, lamb=0.03);"
   ]
  },
  {
   "cell_type": "code",
   "execution_count": 55,
   "metadata": {},
   "outputs": [
    {
     "data": {
      "image/png": "[encoded data removed]",
      "text/plain": [
       "<Figure size 500x400 with 37 Axes>"
      ]
     },
     "metadata": {},
     "output_type": "display_data"
    }
   ],
   "source": [
    "# Visualizamos la red\n",
    "model.plot()"
   ]
  },
  {
   "cell_type": "code",
   "execution_count": 56,
   "metadata": {},
   "outputs": [
    {
     "name": "stdout",
     "output_type": "stream",
     "text": [
      "saving model version 0.2\n"
     ]
    }
   ],
   "source": [
    "# Podamos la red\n",
    "pruned_model = model.prune(node_th=1e-1, edge_th=1e-1)"
   ]
  },
  {
   "cell_type": "code",
   "execution_count": 57,
   "metadata": {},
   "outputs": [
    {
     "data": {
      "image/png": "[encoded data removed]",
      "text/plain": [
       "<Figure size 500x400 with 9 Axes>"
      ]
     },
     "metadata": {},
     "output_type": "display_data"
    }
   ],
   "source": [
    "# Mostramos el modelo podado\n",
    "pruned_model.plot()"
   ]
  },
  {
   "cell_type": "code",
   "execution_count": 58,
   "metadata": {},
   "outputs": [
    {
     "name": "stderr",
     "output_type": "stream",
     "text": [
      "| train_loss: 1.66e-02 | test_loss: 1.74e-02 | reg: 1.03e+01 | : 100%|█| 100/100 [00:20<00:00,  4.82"
     ]
    },
    {
     "name": "stdout",
     "output_type": "stream",
     "text": [
      "saving model version 0.3\n"
     ]
    },
    {
     "name": "stderr",
     "output_type": "stream",
     "text": [
      "\n"
     ]
    }
   ],
   "source": [
    "# Volvemos a entrenar el modelo tras la poda\n",
    "pruned_model.fit(dataset, opt=\"LBFGS\", steps=100);"
   ]
  },
  {
   "cell_type": "code",
   "execution_count": 59,
   "metadata": {},
   "outputs": [
    {
     "data": {
      "image/png": "[encoded data removed]",
      "text/plain": [
       "<Figure size 500x400 with 9 Axes>"
      ]
     },
     "metadata": {},
     "output_type": "display_data"
    }
   ],
   "source": [
    "pruned_model.plot()"
   ]
  },
  {
   "cell_type": "code",
   "execution_count": 60,
   "metadata": {},
   "outputs": [
    {
     "name": "stdout",
     "output_type": "stream",
     "text": [
      "    function  fitting r2    r2 loss  complexity  complexity loss  total loss\n",
      "0        log    0.999660 -11.478455           2                2   -0.695691\n",
      "1    1/x^0.5    0.999650 -11.439960           2                2   -0.687992\n",
      "2  1/sqrt(x)    0.999650 -11.439960           2                2   -0.687992\n",
      "3        1/x    0.999375 -10.620517           2                2   -0.524103\n",
      "4      1/x^2    0.998927  -9.850986           2                2   -0.370197\n",
      "    function  fitting r2    r2 loss  complexity  complexity loss  total loss\n",
      "0    1/x^0.5    0.999612 -11.296362           2                2   -0.659272\n",
      "1  1/sqrt(x)    0.999612 -11.296362           2                2   -0.659272\n",
      "2        log    0.999583 -11.194504           2                2   -0.638901\n",
      "3        1/x    0.999361 -10.589049           2                2   -0.517810\n",
      "4      1/x^2    0.998942  -9.870252           2                2   -0.374050\n",
      "    function  fitting r2    r2 loss  complexity  complexity loss  total loss\n",
      "0        log    0.999414 -10.712320           2                2   -0.542464\n",
      "1    1/x^0.5    0.999070 -10.054394           2                2   -0.410879\n",
      "2  1/sqrt(x)    0.999070 -10.054394           2                2   -0.410879\n",
      "3        1/x    0.998746  -9.627422           2                2   -0.325484\n",
      "4      1/x^2    0.998331  -9.217884           2                2   -0.243577\n",
      "  function  fitting r2    r2 loss  complexity  complexity loss  total loss\n",
      "0      exp    0.999987 -15.434814           2                2   -1.486963\n",
      "1     tanh    0.999899 -13.137539           3                3   -0.227508\n",
      "2        0    0.000000   0.000014           0                0    0.000003\n",
      "3    1/x^2    0.989857  -6.621961           2                2    0.275608\n",
      "4      1/x    0.977756  -5.489793           2                2    0.502041\n"
     ]
    }
   ],
   "source": [
    "# Vamos a ver si podemos ajustar funciones simbólicas\n",
    "pruned_model.suggest_symbolic(0,0,0);\n",
    "pruned_model.suggest_symbolic(0,1,0);\n",
    "pruned_model.suggest_symbolic(0,2,0);\n",
    "pruned_model.suggest_symbolic(1,0,0);"
   ]
  },
  {
   "cell_type": "code",
   "execution_count": 61,
   "metadata": {},
   "outputs": [
    {
     "name": "stdout",
     "output_type": "stream",
     "text": [
      "Best value at boundary.\n",
      "r2 is 0.999659538269043\n",
      "saving model version 0.4\n",
      "r2 is 0.9995833039283752\n",
      "saving model version 0.5\n",
      "r2 is 0.9994139671325684\n",
      "saving model version 0.6\n",
      "r2 is 0.9999874234199524\n",
      "saving model version 0.7\n"
     ]
    }
   ],
   "source": [
    "# Fijamos las funciones de activación a las funciones simbólicas siguientes\n",
    "pruned_model.fix_symbolic(0,0,0, 'log');\n",
    "pruned_model.fix_symbolic(0,1,0, 'log');\n",
    "pruned_model.fix_symbolic(0,2,0, 'log');\n",
    "pruned_model.fix_symbolic(1,0,0, 'exp');"
   ]
  },
  {
   "cell_type": "code",
   "execution_count": 62,
   "metadata": {},
   "outputs": [
    {
     "name": "stderr",
     "output_type": "stream",
     "text": [
      "| train_loss: 1.01e-02 | test_loss: 9.82e-03 | reg: 0.00e+00 | : 100%|█| 100/100 [00:08<00:00, 12.40"
     ]
    },
    {
     "name": "stdout",
     "output_type": "stream",
     "text": [
      "saving model version 0.8\n"
     ]
    },
    {
     "name": "stderr",
     "output_type": "stream",
     "text": [
      "\n"
     ]
    }
   ],
   "source": [
    "# Volvemos a entrenar el modelo\n",
    "pruned_model.fit(dataset, opt=\"LBFGS\", steps=100);"
   ]
  },
  {
   "cell_type": "code",
   "execution_count": 63,
   "metadata": {},
   "outputs": [
    {
     "data": {
      "image/png": "[encoded data removed]",
      "text/plain": [
       "<Figure size 500x400 with 9 Axes>"
      ]
     },
     "metadata": {},
     "output_type": "display_data"
    }
   ],
   "source": [
    "pruned_model.plot()"
   ]
  },
  {
   "attachments": {},
   "cell_type": "markdown",
   "metadata": {},
   "source": [
    "Vemos como en este caso el error es mucho mayor que antes."
   ]
  },
  {
   "cell_type": "code",
   "execution_count": 64,
   "metadata": {},
   "outputs": [
    {
     "data": {
      "text/latex": [
       "$\\displaystyle \\frac{2.7866 \\left(x_{1} + 0.0008\\right)^{1.0014} \\left(x_{2} - 0.0002\\right)^{1.0005}}{\\left(x_{3} + 0.0037\\right)^{2.0053}} + 0.0019$"
      ],
      "text/plain": [
       "2.7866*(x_1 + 0.0008)**1.0014*(x_2 - 0.0002)**1.0005/(x_3 + 0.0037)**2.0053 + 0.0019"
      ]
     },
     "execution_count": 64,
     "metadata": {},
     "output_type": "execute_result"
    }
   ],
   "source": [
    "formula = pruned_model.symbolic_formula()[0][0]\n",
    "ex_round(formula, 4)"
   ]
  },
  {
   "attachments": {},
   "cell_type": "markdown",
   "metadata": {},
   "source": [
    "## $\\sigma = 0.1$"
   ]
  },
  {
   "cell_type": "code",
   "execution_count": 65,
   "metadata": {},
   "outputs": [
    {
     "name": "stdout",
     "output_type": "stream",
     "text": [
      "checkpoint directory created: ./model\n",
      "saving model version 0.0\n"
     ]
    }
   ],
   "source": [
    "# Iniciamos la KAN\n",
    "model = KAN(width=[5,5,1], grid=3, k=3, seed=2024, device=device);\n",
    "\n",
    "dataset = create_dataset_extra_input(error=0.1)"
   ]
  },
  {
   "cell_type": "code",
   "execution_count": 66,
   "metadata": {},
   "outputs": [
    {
     "name": "stderr",
     "output_type": "stream",
     "text": [
      "| train_loss: 2.94e-01 | test_loss: 2.12e-01 | reg: 4.72e+00 | : 100%|█| 50/50 [00:12<00:00,  3.86it"
     ]
    },
    {
     "name": "stdout",
     "output_type": "stream",
     "text": [
      "saving model version 0.1\n"
     ]
    },
    {
     "name": "stderr",
     "output_type": "stream",
     "text": [
      "\n"
     ]
    }
   ],
   "source": [
    "# Entrenamos la red con regularización\n",
    "model.fit(dataset, opt=\"LBFGS\", steps=50, lamb=0.03);"
   ]
  },
  {
   "cell_type": "code",
   "execution_count": 67,
   "metadata": {},
   "outputs": [
    {
     "data": {
      "image/png": "[encoded data removed]",
      "text/plain": [
       "<Figure size 500x400 with 37 Axes>"
      ]
     },
     "metadata": {},
     "output_type": "display_data"
    }
   ],
   "source": [
    "# Visualizamos la red\n",
    "model.plot()"
   ]
  },
  {
   "cell_type": "code",
   "execution_count": 68,
   "metadata": {},
   "outputs": [
    {
     "name": "stdout",
     "output_type": "stream",
     "text": [
      "saving model version 0.2\n"
     ]
    }
   ],
   "source": [
    "# Podamos la red\n",
    "pruned_model = model.prune(node_th=1e-1, edge_th=1e-1)"
   ]
  },
  {
   "cell_type": "code",
   "execution_count": 69,
   "metadata": {},
   "outputs": [
    {
     "data": {
      "image/png": "[encoded data removed]",
      "text/plain": [
       "<Figure size 500x400 with 9 Axes>"
      ]
     },
     "metadata": {},
     "output_type": "display_data"
    }
   ],
   "source": [
    "# Mostramos el modelo podado\n",
    "pruned_model.plot()"
   ]
  },
  {
   "cell_type": "code",
   "execution_count": 70,
   "metadata": {},
   "outputs": [
    {
     "name": "stderr",
     "output_type": "stream",
     "text": [
      "| train_loss: 7.98e-02 | test_loss: 7.74e-02 | reg: 7.88e+00 | : 100%|█| 100/100 [00:17<00:00,  5.76"
     ]
    },
    {
     "name": "stdout",
     "output_type": "stream",
     "text": [
      "saving model version 0.3\n"
     ]
    },
    {
     "name": "stderr",
     "output_type": "stream",
     "text": [
      "\n"
     ]
    }
   ],
   "source": [
    "# Volvemos a entrenar el modelo\n",
    "pruned_model.fit(dataset, opt=\"LBFGS\", steps=100);"
   ]
  },
  {
   "cell_type": "code",
   "execution_count": 71,
   "metadata": {},
   "outputs": [
    {
     "data": {
      "image/png": "[encoded data removed]",
      "text/plain": [
       "<Figure size 500x400 with 9 Axes>"
      ]
     },
     "metadata": {},
     "output_type": "display_data"
    }
   ],
   "source": [
    "pruned_model.plot()"
   ]
  },
  {
   "cell_type": "code",
   "execution_count": 72,
   "metadata": {},
   "outputs": [
    {
     "name": "stdout",
     "output_type": "stream",
     "text": [
      "    function  fitting r2    r2 loss  complexity  complexity loss  total loss\n",
      "0        log    0.999617 -11.311799           2                2   -0.662360\n",
      "1    1/x^0.5    0.999360 -10.587196           2                2   -0.517439\n",
      "2  1/sqrt(x)    0.999360 -10.587196           2                2   -0.517439\n",
      "3        1/x    0.998994  -9.943212           2                2   -0.388642\n",
      "4      1/x^2    0.998478  -9.350644           2                2   -0.270129\n",
      "    function  fitting r2    r2 loss  complexity  complexity loss  total loss\n",
      "0        log    0.999821 -12.367108           2                2   -0.873422\n",
      "1    1/x^0.5    0.999269 -10.397676           2                2   -0.479535\n",
      "2  1/sqrt(x)    0.999269 -10.397676           2                2   -0.479535\n",
      "3        1/x    0.998760  -9.643564           2                2   -0.328713\n",
      "4      1/x^2    0.998100  -9.032019           2                2   -0.206404\n",
      "  function  fitting r2   r2 loss  complexity  complexity loss  total loss\n",
      "0        x    0.944942 -4.182633           1                1   -0.036527\n",
      "1        0    0.000000  0.000014           0                0    0.000003\n",
      "2      log    0.995061 -7.658572           2                2    0.068286\n",
      "3    x^0.5    0.994568 -7.521724           2                2    0.095655\n",
      "4     sqrt    0.994568 -7.521724           2                2    0.095655\n",
      "   function  fitting r2   r2 loss  complexity  complexity loss  total loss\n",
      "0       exp    0.997803 -8.823875           2                2   -0.164775\n",
      "1         0    0.000000  0.000014           0                0    0.000003\n",
      "2  gaussian    0.998772 -9.657455           3                3    0.468509\n",
      "3         x    0.424084 -0.796045           1                1    0.640791\n",
      "4     1/x^2    0.963795 -4.787260           2                2    0.642548\n"
     ]
    }
   ],
   "source": [
    "# Vamos a ver si podemos ajustar funciones simbólicas\n",
    "pruned_model.suggest_symbolic(0,0,0);\n",
    "pruned_model.suggest_symbolic(0,1,0);\n",
    "pruned_model.suggest_symbolic(0,2,0);\n",
    "pruned_model.suggest_symbolic(1,0,0);"
   ]
  },
  {
   "cell_type": "code",
   "execution_count": 73,
   "metadata": {},
   "outputs": [
    {
     "name": "stdout",
     "output_type": "stream",
     "text": [
      "r2 is 0.9996166229248047\n",
      "saving model version 0.4\n",
      "r2 is 0.9998207092285156\n",
      "saving model version 0.5\n",
      "r2 is 0.9950607419013977\n",
      "saving model version 0.6\n",
      "r2 is 0.997803270816803\n",
      "saving model version 0.7\n"
     ]
    }
   ],
   "source": [
    "# Fijamos las funciones de activación a las funciones simbólicas siguientes\n",
    "pruned_model.fix_symbolic(0,0,0, 'log');\n",
    "pruned_model.fix_symbolic(0,1,0, 'log');\n",
    "pruned_model.fix_symbolic(0,2,0, 'log');\n",
    "pruned_model.fix_symbolic(1,0,0, 'exp');"
   ]
  },
  {
   "cell_type": "code",
   "execution_count": 74,
   "metadata": {},
   "outputs": [
    {
     "name": "stderr",
     "output_type": "stream",
     "text": [
      "| train_loss: 8.42e-02 | test_loss: 8.27e-02 | reg: 0.00e+00 | : 100%|█| 100/100 [00:08<00:00, 11.35"
     ]
    },
    {
     "name": "stdout",
     "output_type": "stream",
     "text": [
      "saving model version 0.8\n"
     ]
    },
    {
     "name": "stderr",
     "output_type": "stream",
     "text": [
      "\n"
     ]
    }
   ],
   "source": [
    "# Volvemos a entrenar el modelo\n",
    "pruned_model.fit(dataset, opt=\"LBFGS\", steps=100);"
   ]
  },
  {
   "cell_type": "code",
   "execution_count": 75,
   "metadata": {},
   "outputs": [
    {
     "data": {
      "image/png": "[encoded data removed]",
      "text/plain": [
       "<Figure size 500x400 with 9 Axes>"
      ]
     },
     "metadata": {},
     "output_type": "display_data"
    }
   ],
   "source": [
    "pruned_model.plot()"
   ]
  },
  {
   "attachments": {},
   "cell_type": "markdown",
   "metadata": {},
   "source": [
    "El error producido es bastante más grande."
   ]
  },
  {
   "cell_type": "code",
   "execution_count": 76,
   "metadata": {},
   "outputs": [
    {
     "data": {
      "text/latex": [
       "$\\displaystyle \\frac{3.0537 \\left(x_{1} + 0.0592\\right)^{1.0911} \\left(x_{2} - 0.0484\\right)^{1.0104}}{\\left(x_{3} + 0.0835\\right)^{2.2022}} + 0.0917$"
      ],
      "text/plain": [
       "3.0537*(x_1 + 0.0592)**1.0911*(x_2 - 0.0484)**1.0104/(x_3 + 0.0835)**2.2022 + 0.0917"
      ]
     },
     "execution_count": 76,
     "metadata": {},
     "output_type": "execute_result"
    }
   ],
   "source": [
    "formula = pruned_model.symbolic_formula()[0][0]\n",
    "ex_round(formula, 4)"
   ]
  }
 ],
 "metadata": {
  "kernelspec": {
   "display_name": "pykan-env",
   "language": "python",
   "name": "python3"
  },
  "language_info": {
   "codemirror_mode": {
    "name": "ipython",
    "version": 3
   },
   "file_extension": ".py",
   "mimetype": "text/x-python",
   "name": "python",
   "nbconvert_exporter": "python",
   "pygments_lexer": "ipython3",
   "version": "3.9.7"
  },
  "orig_nbformat": 4
 },
 "nbformat": 4,
 "nbformat_minor": 2
}
